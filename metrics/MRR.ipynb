{
 "cells": [
  {
   "cell_type": "code",
   "execution_count": 5,
   "id": "67dde08d-31cd-4f4f-a386-efcc8c568691",
   "metadata": {},
   "outputs": [],
   "source": [
    "import torch\n",
    "import numpy as np\n",
    "from torchmetrics.retrieval import RetrievalMRR"
   ]
  },
  {
   "cell_type": "code",
   "execution_count": 2,
   "id": "d5ee45eb-84a2-4c0f-b604-f992672a0975",
   "metadata": {},
   "outputs": [
    {
     "name": "stdout",
     "output_type": "stream",
     "text": [
      "tensor([[2.3157e-01, 7.2313e-01, 9.7114e-01, 8.0252e-01, 3.3026e-02, 8.2050e-01,\n",
      "         9.4361e-01, 6.0403e-01, 3.7185e-01, 1.8687e-01, 9.2505e-01, 1.7455e-01,\n",
      "         6.9432e-01, 2.3404e-01, 3.8303e-01, 8.9583e-01, 1.4428e-01, 2.2662e-01,\n",
      "         9.1523e-01, 3.8583e-01],\n",
      "        [9.2992e-03, 4.2675e-01, 9.1105e-01, 3.8866e-01, 2.7772e-01, 1.3971e-01,\n",
      "         1.1660e-01, 7.9097e-01, 2.3641e-01, 8.4567e-01, 2.9572e-01, 9.3304e-01,\n",
      "         2.3901e-01, 5.4205e-01, 3.5965e-04, 8.1711e-01, 6.1284e-01, 2.3958e-01,\n",
      "         7.3325e-01, 3.6667e-01]])\n",
      "tensor([[0, 0, 0, 1, 0, 0, 0, 0, 0, 1, 0, 1, 1, 1, 1, 1, 0, 1, 1, 1],\n",
      "        [0, 0, 1, 1, 0, 0, 0, 1, 1, 0, 0, 1, 1, 0, 0, 0, 1, 0, 1, 0]])\n"
     ]
    }
   ],
   "source": [
    "truth = torch.rand(2, 20)\n",
    "truth = torch.where(truth >= 0.5, 1, 0)\n",
    "preds = torch.rand(2, 20)\n",
    "\n",
    "print(preds)\n",
    "print(truth)"
   ]
  },
  {
   "cell_type": "code",
   "execution_count": 15,
   "id": "4eae1669-618d-49a2-b760-863c18b89856",
   "metadata": {},
   "outputs": [
    {
     "data": {
      "text/plain": [
       "tensor([[ 2,  6, 10, 18, 15,  5,  3,  1, 12,  7, 19, 14,  8, 13,  0, 17,  9, 11,\n",
       "         16,  4],\n",
       "        [11,  2,  9, 15,  7, 18, 16, 13,  1,  3, 19, 10,  4, 17, 12,  8,  5,  6,\n",
       "          0, 14]])"
      ]
     },
     "execution_count": 15,
     "metadata": {},
     "output_type": "execute_result"
    }
   ],
   "source": [
    "pred_ranking = preds.argsort(descending=True, dim=1)\n",
    "pred_ranking"
   ]
  },
  {
   "cell_type": "code",
   "execution_count": 17,
   "id": "ab5c1e1c-1754-4031-9e32-76afb376eaad",
   "metadata": {},
   "outputs": [
    {
     "data": {
      "text/plain": [
       "tensor([[0, 0, 0, 1, 1, 0, 1, 0, 1, 0, 1, 1, 0, 1, 0, 1, 1, 1, 0, 0],\n",
       "        [1, 1, 0, 0, 1, 1, 1, 0, 0, 1, 0, 0, 0, 0, 1, 1, 0, 0, 0, 0]])"
      ]
     },
     "execution_count": 17,
     "metadata": {},
     "output_type": "execute_result"
    }
   ],
   "source": [
    "pred_ranks_truth = torch.gather(truth, 1, pred_ranking)\n",
    "pred_ranks_truth"
   ]
  },
  {
   "cell_type": "code",
   "execution_count": 22,
   "id": "7eca9fc6-573e-4228-8779-9893d0fbc847",
   "metadata": {},
   "outputs": [],
   "source": [
    "ranks = (pred_ranks_truth == 1).float().argmax(dim=1) + 1"
   ]
  },
  {
   "cell_type": "code",
   "execution_count": 23,
   "id": "b94832e6-7243-49b3-9e08-09a52a996806",
   "metadata": {},
   "outputs": [
    {
     "data": {
      "text/plain": [
       "tensor([0.2500, 1.0000])"
      ]
     },
     "execution_count": 23,
     "metadata": {},
     "output_type": "execute_result"
    }
   ],
   "source": [
    "rr = 1.0 / ranks\n",
    "rr"
   ]
  },
  {
   "cell_type": "code",
   "execution_count": 25,
   "id": "0797754d-6a66-4723-8f6f-784d0d25675d",
   "metadata": {},
   "outputs": [
    {
     "data": {
      "text/plain": [
       "tensor(0.6250)"
      ]
     },
     "execution_count": 25,
     "metadata": {},
     "output_type": "execute_result"
    }
   ],
   "source": [
    "mrr = rr.mean()\n",
    "mrr"
   ]
  },
  {
   "cell_type": "markdown",
   "id": "94fb612a-6a1a-4e9c-a544-2474e09076c4",
   "metadata": {},
   "source": [
    "# Validation"
   ]
  },
  {
   "cell_type": "code",
   "execution_count": 26,
   "id": "0d19e4e1-f77e-425a-bd6b-3ad6222f4d32",
   "metadata": {},
   "outputs": [
    {
     "data": {
      "text/plain": [
       "tensor(0.6250)"
      ]
     },
     "execution_count": 26,
     "metadata": {},
     "output_type": "execute_result"
    }
   ],
   "source": [
    "mrr = RetrievalMRR()\n",
    "\n",
    "indexes = torch.tensor([[i] * truth.size(1) for i in range(truth.size(0))])\n",
    "mrr(preds.flatten(), truth.flatten(), indexes=indexes.flatten())"
   ]
  },
  {
   "cell_type": "code",
   "execution_count": null,
   "id": "c0bd193e-5a01-444a-aa95-61518672fa2f",
   "metadata": {},
   "outputs": [],
   "source": []
  }
 ],
 "metadata": {
  "kernelspec": {
   "display_name": "Python 3 (ipykernel)",
   "language": "python",
   "name": "python3"
  },
  "language_info": {
   "codemirror_mode": {
    "name": "ipython",
    "version": 3
   },
   "file_extension": ".py",
   "mimetype": "text/x-python",
   "name": "python",
   "nbconvert_exporter": "python",
   "pygments_lexer": "ipython3",
   "version": "3.10.15"
  }
 },
 "nbformat": 4,
 "nbformat_minor": 5
}
