{
 "cells": [
  {
   "cell_type": "code",
   "execution_count": 1,
   "id": "7e05bfbc-67cc-4666-8eb2-c2c1cd18a931",
   "metadata": {},
   "outputs": [],
   "source": [
    "import torch\n",
    "import numpy as np\n",
    "from torchmetrics.retrieval import RetrievalMAP"
   ]
  },
  {
   "cell_type": "code",
   "execution_count": 2,
   "id": "bbde7233-bde7-41e3-8a6e-aa607d66a592",
   "metadata": {},
   "outputs": [],
   "source": [
    "K=10"
   ]
  },
  {
   "cell_type": "code",
   "execution_count": 3,
   "id": "0cf4d3cb-ccd2-4233-9d59-92a15de325b0",
   "metadata": {},
   "outputs": [
    {
     "name": "stdout",
     "output_type": "stream",
     "text": [
      "tensor([[0.4082, 0.0279, 0.5182, 0.9956, 0.5743, 0.2198, 0.1459, 0.0024, 0.4262,\n",
      "         0.2257, 0.3194, 0.4648, 0.7320, 0.1438, 0.1873, 0.6121, 0.8604, 0.1967,\n",
      "         0.6816, 0.1389],\n",
      "        [0.5069, 0.6264, 0.5795, 0.4414, 0.2198, 0.2324, 0.7687, 0.7223, 0.8915,\n",
      "         0.3777, 0.2694, 0.6389, 0.0620, 0.2020, 0.6193, 0.0183, 0.3427, 0.0127,\n",
      "         0.9527, 0.3974]])\n",
      "tensor([[0, 0, 0, 1, 1, 0, 0, 0, 1, 1, 0, 1, 1, 1, 0, 1, 0, 0, 1, 1],\n",
      "        [1, 0, 0, 1, 0, 1, 1, 0, 0, 0, 0, 1, 1, 0, 0, 0, 0, 0, 1, 1]])\n"
     ]
    }
   ],
   "source": [
    "truth = torch.rand(2, 20)\n",
    "truth = torch.where(truth >= 0.5, 1, 0)\n",
    "preds = torch.rand(2, 20)\n",
    "\n",
    "print(preds)\n",
    "print(truth)"
   ]
  },
  {
   "cell_type": "code",
   "execution_count": 4,
   "id": "5ae9cfda-74ab-4a5b-b0c7-6344283acbd8",
   "metadata": {},
   "outputs": [],
   "source": [
    "def get_pre_at_k(preds, truth, k):\n",
    "    top_k_indices = torch.topk(preds, k=k)[1]\n",
    "    truth_on_topk = torch.gather(truth, 1, top_k_indices)\n",
    "    pre_k = truth_on_topk.sum(dim=1) / k\n",
    "    return pre_k"
   ]
  },
  {
   "cell_type": "code",
   "execution_count": 5,
   "id": "a8641e97-ff13-4ca6-be27-33e8570f6fa0",
   "metadata": {},
   "outputs": [
    {
     "data": {
      "text/plain": [
       "tensor([[ 3, 16, 12, 18, 15,  4,  2, 11,  8,  0],\n",
       "        [18,  8,  6,  7, 11,  1, 14,  2,  0,  3]])"
      ]
     },
     "execution_count": 5,
     "metadata": {},
     "output_type": "execute_result"
    }
   ],
   "source": [
    "top_k_indices = torch.topk(preds, k=K)[1]\n",
    "top_k_indices"
   ]
  },
  {
   "cell_type": "code",
   "execution_count": 6,
   "id": "f705947e-c37b-4ccf-8aad-45757e6d5b50",
   "metadata": {},
   "outputs": [
    {
     "data": {
      "text/plain": [
       "tensor([[1, 0, 1, 1, 1, 1, 0, 1, 1, 0],\n",
       "        [1, 0, 1, 0, 1, 0, 0, 0, 1, 1]])"
      ]
     },
     "execution_count": 6,
     "metadata": {},
     "output_type": "execute_result"
    }
   ],
   "source": [
    "truth_on_topk = torch.gather(truth, 1, top_k_indices)\n",
    "truth_on_topk"
   ]
  },
  {
   "cell_type": "code",
   "execution_count": 7,
   "id": "ff713114-0857-4d88-885e-4ab05bde9df2",
   "metadata": {},
   "outputs": [
    {
     "data": {
      "text/plain": [
       "tensor([[1.0000, 0.5000, 0.6667, 0.7500, 0.8000, 0.8333, 0.7143, 0.7500, 0.7778,\n",
       "         0.7000],\n",
       "        [1.0000, 0.5000, 0.6667, 0.5000, 0.6000, 0.5000, 0.4286, 0.3750, 0.4444,\n",
       "         0.5000]])"
      ]
     },
     "execution_count": 7,
     "metadata": {},
     "output_type": "execute_result"
    }
   ],
   "source": [
    "pre_at_k = []\n",
    "\n",
    "for i in range(truth_on_topk.size(1)):\n",
    "    curr_pre_at_k = get_pre_at_k(preds, truth, i+1)\n",
    "    pre_at_k.append(curr_pre_at_k.view((2, 1)))\n",
    "#     print(i, curr_pre_at_k)\n",
    "# print(pre_at_k)\n",
    "pre_at_k = torch.cat(pre_at_k, dim=1)\n",
    "pre_at_k"
   ]
  },
  {
   "cell_type": "code",
   "execution_count": 8,
   "id": "4bf94a68-be1c-4401-ab39-2cb3c9b9943c",
   "metadata": {},
   "outputs": [
    {
     "data": {
      "text/plain": [
       "tensor([0.7968, 0.6422])"
      ]
     },
     "execution_count": 8,
     "metadata": {},
     "output_type": "execute_result"
    }
   ],
   "source": [
    "ap = (truth_on_topk * pre_at_k).sum(dim=1) / truth_on_topk.sum(dim=1)\n",
    "ap"
   ]
  },
  {
   "cell_type": "code",
   "execution_count": 9,
   "id": "b69bfd8b-036c-42f9-b743-90196b82dd14",
   "metadata": {},
   "outputs": [
    {
     "data": {
      "text/plain": [
       "tensor(0.7195)"
      ]
     },
     "execution_count": 9,
     "metadata": {},
     "output_type": "execute_result"
    }
   ],
   "source": [
    "map = ap.mean()\n",
    "map"
   ]
  },
  {
   "cell_type": "markdown",
   "id": "04f6e84d-53f0-45fb-91ca-b9c9a911ea8e",
   "metadata": {},
   "source": [
    "# Verification"
   ]
  },
  {
   "cell_type": "code",
   "execution_count": 10,
   "id": "d5e401b9-d5d6-4521-abef-bc43f181238e",
   "metadata": {},
   "outputs": [
    {
     "data": {
      "text/plain": [
       "tensor(0.7195)"
      ]
     },
     "execution_count": 10,
     "metadata": {},
     "output_type": "execute_result"
    }
   ],
   "source": [
    "map = RetrievalMAP(top_k=K)\n",
    "\n",
    "indexes = torch.tensor([[i] * truth.size(1) for i in range(truth.size(0))])\n",
    "map(preds.flatten(), truth.flatten(), indexes=indexes.flatten())"
   ]
  }
 ],
 "metadata": {
  "kernelspec": {
   "display_name": "Python 3 (ipykernel)",
   "language": "python",
   "name": "python3"
  },
  "language_info": {
   "codemirror_mode": {
    "name": "ipython",
    "version": 3
   },
   "file_extension": ".py",
   "mimetype": "text/x-python",
   "name": "python",
   "nbconvert_exporter": "python",
   "pygments_lexer": "ipython3",
   "version": "3.10.15"
  }
 },
 "nbformat": 4,
 "nbformat_minor": 5
}
