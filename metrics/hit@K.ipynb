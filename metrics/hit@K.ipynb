{
 "cells": [
  {
   "cell_type": "code",
   "execution_count": 3,
   "id": "fd3195e9-bf3d-471e-a545-c33781ed1689",
   "metadata": {},
   "outputs": [],
   "source": [
    "import torch\n",
    "import numpy as np\n",
    "from torchmetrics.retrieval import RetrievalMAP"
   ]
  },
  {
   "cell_type": "code",
   "execution_count": 4,
   "id": "523520b9-5f6c-49ea-9da5-921d194d157d",
   "metadata": {},
   "outputs": [],
   "source": [
    "K=10"
   ]
  },
  {
   "cell_type": "code",
   "execution_count": 5,
   "id": "6d3b0337-1907-4f0a-a2f1-dcfbc381cc2a",
   "metadata": {},
   "outputs": [
    {
     "name": "stdout",
     "output_type": "stream",
     "text": [
      "tensor([[0.6656, 0.5945, 0.0892, 0.9180, 0.0796, 0.8824, 0.2905, 0.9724, 0.9883,\n",
      "         0.0277, 0.3655, 0.5352, 0.9656, 0.7303, 0.2612, 0.9090, 0.8597, 0.6144,\n",
      "         0.4857, 0.6125],\n",
      "        [0.7213, 0.7786, 0.6036, 0.0955, 0.8429, 0.1822, 0.4042, 0.7078, 0.8250,\n",
      "         0.8748, 0.3610, 0.1361, 0.1893, 0.0465, 0.1714, 0.5855, 0.0614, 0.6153,\n",
      "         0.4505, 0.3124]])\n",
      "tensor([[0, 1, 1, 1, 1, 1, 0, 0, 1, 1, 1, 0, 0, 0, 0, 0, 0, 0, 0, 1],\n",
      "        [0, 1, 0, 1, 0, 1, 1, 1, 1, 1, 0, 0, 0, 0, 0, 0, 1, 0, 1, 1]])\n"
     ]
    }
   ],
   "source": [
    "truth = torch.rand(2, 20)\n",
    "truth = torch.where(truth >= 0.5, 1, 0)\n",
    "preds = torch.rand(2, 20)\n",
    "\n",
    "print(preds)\n",
    "print(truth)"
   ]
  },
  {
   "cell_type": "code",
   "execution_count": 9,
   "id": "a2712478-db84-4574-b3eb-4fb4f49013e2",
   "metadata": {},
   "outputs": [
    {
     "data": {
      "text/plain": [
       "tensor([[ 8,  7, 12,  3, 15,  5, 16, 13,  0, 17],\n",
       "        [ 9,  4,  8,  1,  0,  7, 17,  2, 15, 18]])"
      ]
     },
     "execution_count": 9,
     "metadata": {},
     "output_type": "execute_result"
    }
   ],
   "source": [
    "top_k_indices = torch.topk(preds, k=K)[1]\n",
    "top_k_indices"
   ]
  },
  {
   "cell_type": "code",
   "execution_count": 11,
   "id": "dacae4a9-2bf9-4243-95e9-f89bd392c457",
   "metadata": {},
   "outputs": [
    {
     "data": {
      "text/plain": [
       "tensor([[1, 0, 0, 1, 0, 1, 0, 0, 0, 0],\n",
       "        [1, 0, 1, 1, 0, 1, 0, 0, 0, 1]])"
      ]
     },
     "execution_count": 11,
     "metadata": {},
     "output_type": "execute_result"
    }
   ],
   "source": [
    "top_k_truth_values = torch.gather(truth, 1, top_k_indices)\n",
    "top_k_truth_values"
   ]
  },
  {
   "cell_type": "code",
   "execution_count": 29,
   "id": "1e05edd0-c894-445f-b962-057627382d15",
   "metadata": {},
   "outputs": [
    {
     "data": {
      "text/plain": [
       "1.0"
      ]
     },
     "execution_count": 29,
     "metadata": {},
     "output_type": "execute_result"
    }
   ],
   "source": [
    "cum, tot = 0, 0\n",
    "\n",
    "for i in range(top_k_truth_values.size(0)):\n",
    "    cum += int((top_k_truth_values[i, :] == 1).nonzero().size(0) > 0)\n",
    "    tot += 1\n",
    "\n",
    "hit = cum / tot\n",
    "hit"
   ]
  },
  {
   "cell_type": "code",
   "execution_count": null,
   "id": "5b74a405-f95e-4c52-941f-0ea4ce5926f1",
   "metadata": {},
   "outputs": [],
   "source": []
  }
 ],
 "metadata": {
  "kernelspec": {
   "display_name": "Python 3 (ipykernel)",
   "language": "python",
   "name": "python3"
  },
  "language_info": {
   "codemirror_mode": {
    "name": "ipython",
    "version": 3
   },
   "file_extension": ".py",
   "mimetype": "text/x-python",
   "name": "python",
   "nbconvert_exporter": "python",
   "pygments_lexer": "ipython3",
   "version": "3.10.15"
  }
 },
 "nbformat": 4,
 "nbformat_minor": 5
}
