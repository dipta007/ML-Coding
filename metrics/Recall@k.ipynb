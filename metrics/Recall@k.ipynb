{
 "cells": [
  {
   "cell_type": "code",
   "execution_count": 1,
   "id": "be8c010e-0281-47dc-b182-f26ab838f3fc",
   "metadata": {},
   "outputs": [],
   "source": [
    "import torch\n",
    "import numpy as np\n",
    "from torchmetrics.retrieval import RetrievalRecall"
   ]
  },
  {
   "cell_type": "code",
   "execution_count": 2,
   "id": "a94d7614-bdaa-4dc4-b961-3cee6b216284",
   "metadata": {},
   "outputs": [],
   "source": [
    "K = 10"
   ]
  },
  {
   "cell_type": "code",
   "execution_count": 3,
   "id": "c1620d81-240a-489d-ae11-bde34c96819a",
   "metadata": {},
   "outputs": [
    {
     "name": "stdout",
     "output_type": "stream",
     "text": [
      "tensor([[0.6247, 0.4400, 0.4081, 0.5128, 0.5923, 0.1204, 0.5968, 0.1180, 0.6544,\n",
      "         0.9898, 0.1868, 0.0067, 0.7584, 0.4192, 0.7710, 0.6368, 0.6760, 0.0105,\n",
      "         0.8750, 0.0961],\n",
      "        [0.8300, 0.2517, 0.1792, 0.7540, 0.9734, 0.0334, 0.1494, 0.2747, 0.3824,\n",
      "         0.7802, 0.1922, 0.2298, 0.3917, 0.7596, 0.1827, 0.1493, 0.7276, 0.2286,\n",
      "         0.0395, 0.4883]])\n",
      "tensor([[1, 1, 0, 0, 1, 1, 0, 1, 0, 1, 0, 1, 1, 1, 1, 0, 0, 0, 1, 1],\n",
      "        [1, 0, 1, 0, 1, 0, 1, 1, 0, 0, 1, 1, 0, 0, 1, 1, 0, 0, 0, 1]])\n"
     ]
    }
   ],
   "source": [
    "truth = torch.rand(2, 20)\n",
    "truth = torch.where(truth >= 0.5, 1, 0)\n",
    "preds = torch.rand(2, 20)\n",
    "\n",
    "print(preds)\n",
    "print(truth)"
   ]
  },
  {
   "cell_type": "code",
   "execution_count": 4,
   "id": "0d7cd583-4fcf-4797-8772-83acee4610c6",
   "metadata": {},
   "outputs": [
    {
     "data": {
      "text/plain": [
       "(tensor([[0.6247, 0.4400, 0.4081, 0.5128, 0.5923, 0.1204, 0.5968, 0.1180, 0.6544,\n",
       "          0.9898, 0.1868, 0.0067, 0.7584, 0.4192, 0.7710, 0.6368, 0.6760, 0.0105,\n",
       "          0.8750, 0.0961],\n",
       "         [0.8300, 0.2517, 0.1792, 0.7540, 0.9734, 0.0334, 0.1494, 0.2747, 0.3824,\n",
       "          0.7802, 0.1922, 0.2298, 0.3917, 0.7596, 0.1827, 0.1493, 0.7276, 0.2286,\n",
       "          0.0395, 0.4883]]),\n",
       " tensor([[ 9, 18, 14, 12, 16,  8, 15,  0,  6,  4],\n",
       "         [ 4,  0,  9, 13,  3, 16, 19, 12,  8,  7]]))"
      ]
     },
     "execution_count": 4,
     "metadata": {},
     "output_type": "execute_result"
    }
   ],
   "source": [
    "indices = torch.topk(preds, k=K)[1]\n",
    "preds, indices"
   ]
  },
  {
   "cell_type": "code",
   "execution_count": 5,
   "id": "018a3b29-84c8-41fe-99bc-fd28ac309dfa",
   "metadata": {},
   "outputs": [
    {
     "data": {
      "text/plain": [
       "(tensor([[0.9898, 0.8750, 0.7710, 0.7584, 0.6760, 0.6544, 0.6368, 0.6247, 0.5968,\n",
       "          0.5923],\n",
       "         [0.9734, 0.8300, 0.7802, 0.7596, 0.7540, 0.7276, 0.4883, 0.3917, 0.3824,\n",
       "          0.2747]]),\n",
       " tensor([[1, 1, 1, 1, 0, 0, 0, 1, 0, 1],\n",
       "         [1, 1, 0, 0, 0, 0, 1, 0, 0, 1]]))"
      ]
     },
     "execution_count": 5,
     "metadata": {},
     "output_type": "execute_result"
    }
   ],
   "source": [
    "selected_truth = torch.gather(truth, 1, indices)\n",
    "selected_preds = torch.gather(preds, 1, indices)\n",
    "\n",
    "selected_preds, selected_truth"
   ]
  },
  {
   "cell_type": "code",
   "execution_count": 6,
   "id": "ca12d10b-0bbb-456a-a2ea-0e7c705c49de",
   "metadata": {},
   "outputs": [
    {
     "name": "stdout",
     "output_type": "stream",
     "text": [
      "tensor([0.5000, 0.4000])\n"
     ]
    },
    {
     "data": {
      "text/plain": [
       "tensor(0.4500)"
      ]
     },
     "execution_count": 6,
     "metadata": {},
     "output_type": "execute_result"
    }
   ],
   "source": [
    "re_k = selected_truth.sum(dim=1) / truth.sum(dim=1)\n",
    "print(re_k)\n",
    "re_k = torch.mean(re_k)\n",
    "re_k"
   ]
  },
  {
   "cell_type": "markdown",
   "id": "6de5d78e-625f-4073-8a03-cd670d9d93fa",
   "metadata": {},
   "source": [
    "# Validation"
   ]
  },
  {
   "cell_type": "code",
   "execution_count": 7,
   "id": "25f59b04-2ec6-4752-a767-b1eaa3f8add8",
   "metadata": {},
   "outputs": [
    {
     "data": {
      "text/plain": [
       "tensor(0.4500)"
      ]
     },
     "execution_count": 7,
     "metadata": {},
     "output_type": "execute_result"
    }
   ],
   "source": [
    "p2 = RetrievalRecall(top_k=K)\n",
    "\n",
    "indexes = torch.tensor([[i] * truth.size(1) for i in range(truth.size(0))])\n",
    "p2(preds.flatten(), truth.flatten(), indexes=indexes.flatten())"
   ]
  },
  {
   "cell_type": "code",
   "execution_count": null,
   "id": "1b6cd365-8254-4938-af10-8231cd31b46f",
   "metadata": {},
   "outputs": [],
   "source": []
  }
 ],
 "metadata": {
  "kernelspec": {
   "display_name": "Python 3 (ipykernel)",
   "language": "python",
   "name": "python3"
  },
  "language_info": {
   "codemirror_mode": {
    "name": "ipython",
    "version": 3
   },
   "file_extension": ".py",
   "mimetype": "text/x-python",
   "name": "python",
   "nbconvert_exporter": "python",
   "pygments_lexer": "ipython3",
   "version": "3.10.15"
  }
 },
 "nbformat": 4,
 "nbformat_minor": 5
}
