{
 "cells": [
  {
   "cell_type": "code",
   "execution_count": 28,
   "id": "135f9c20-e3b6-4147-9152-051fe68afc12",
   "metadata": {},
   "outputs": [],
   "source": [
    "import torch\n",
    "import numpy as np\n",
    "from torchmetrics.retrieval import RetrievalNormalizedDCG"
   ]
  },
  {
   "cell_type": "code",
   "execution_count": 2,
   "id": "8ab0e9b4-6c6c-476c-9855-d44dcc31a699",
   "metadata": {},
   "outputs": [],
   "source": [
    "K=10"
   ]
  },
  {
   "cell_type": "code",
   "execution_count": 71,
   "id": "b68a3e0b-f9d8-4dcf-b6ce-10806f082aea",
   "metadata": {},
   "outputs": [
    {
     "name": "stdout",
     "output_type": "stream",
     "text": [
      "tensor([[0.1807, 0.9279, 0.1345, 0.6650, 0.6506, 0.9649, 0.6762, 0.4907, 0.6765,\n",
      "         0.4774, 0.8684, 0.8787, 0.1453, 0.0715, 0.3327, 0.4553, 0.9419, 0.3236,\n",
      "         0.2591, 0.9133],\n",
      "        [0.0015, 0.9148, 0.3128, 0.2203, 0.3517, 0.3101, 0.0857, 0.8655, 0.8868,\n",
      "         0.7008, 0.8773, 0.2196, 0.2142, 0.2294, 0.4055, 0.3190, 0.8570, 0.3766,\n",
      "         0.9754, 0.4491]])\n",
      "tensor([[10, 16,  1,  6,  4,  8,  7, 13,  2, 15, 11,  5, 14,  0, 12, 17, 18,  9,\n",
      "         19,  3],\n",
      "        [18,  0,  5, 11, 19, 15, 16, 17,  4, 10,  6,  9, 14, 12,  8,  1, 13,  2,\n",
      "          3,  7]])\n"
     ]
    }
   ],
   "source": [
    "truth = torch.rand(2, 20)\n",
    "truth = []\n",
    "for i in range(2):\n",
    "    a = torch.arange(20)\n",
    "    a = a[torch.randperm(a.size()[0])]\n",
    "    truth.append(a)\n",
    "truth = torch.stack(truth)\n",
    "preds = torch.rand(2, 20)\n",
    "\n",
    "print(preds)\n",
    "print(truth)"
   ]
  },
  {
   "cell_type": "code",
   "execution_count": 72,
   "id": "538a2f4a-f6d8-4878-a4e2-3e6529c9f601",
   "metadata": {},
   "outputs": [
    {
     "data": {
      "text/plain": [
       "tensor([[ 5, 16,  1, 19, 11, 10,  8,  6,  3,  4],\n",
       "        [18,  1,  8, 10,  7, 16,  9, 19, 14, 17]])"
      ]
     },
     "execution_count": 72,
     "metadata": {},
     "output_type": "execute_result"
    }
   ],
   "source": [
    "top_k_indices = torch.topk(preds, k=K)[1]\n",
    "top_k_indices"
   ]
  },
  {
   "cell_type": "code",
   "execution_count": 73,
   "id": "d18faa41-c695-4efd-8559-ce404c309882",
   "metadata": {},
   "outputs": [
    {
     "data": {
      "text/plain": [
       "tensor([[ 8, 18, 16,  3,  5, 11,  2,  7,  6,  4],\n",
       "        [ 3,  0,  4,  6, 17, 13, 10,  7,  8,  2]])"
      ]
     },
     "execution_count": 73,
     "metadata": {},
     "output_type": "execute_result"
    }
   ],
   "source": [
    "top_k_truths = torch.gather(truth, 1, top_k_indices)\n",
    "top_k_truths"
   ]
  },
  {
   "cell_type": "code",
   "execution_count": 74,
   "id": "87bbf9f5-18f6-456b-941b-4313ea9b5593",
   "metadata": {},
   "outputs": [
    {
     "data": {
      "text/plain": [
       "tensor([[18, 16, 11,  8,  7,  6,  5,  4,  3,  2],\n",
       "        [17, 13, 10,  8,  7,  6,  4,  3,  2,  0]])"
      ]
     },
     "execution_count": 74,
     "metadata": {},
     "output_type": "execute_result"
    }
   ],
   "source": [
    "ideal_truths = torch.sort(top_k_truths, dim=1, descending=True)[0]\n",
    "ideal_truths"
   ]
  },
  {
   "cell_type": "code",
   "execution_count": 75,
   "id": "43103c8c-2a47-4c65-b76f-047d30d2e182",
   "metadata": {},
   "outputs": [],
   "source": [
    "def dcg(ctruths):\n",
    "    dcg = ctruths / torch.log2(torch.arange(ctruths.size(-1)) + 2)\n",
    "    return dcg.sum(dim=1)"
   ]
  },
  {
   "cell_type": "code",
   "execution_count": 76,
   "id": "1a309eff-d950-450e-a5b3-0fbad13597c9",
   "metadata": {},
   "outputs": [
    {
     "data": {
      "text/plain": [
       "tensor([0.8713, 0.6603])"
      ]
     },
     "execution_count": 76,
     "metadata": {},
     "output_type": "execute_result"
    }
   ],
   "source": [
    "ndcg = dcg(top_k_truths) / dcg(ideal_truths)\n",
    "# ndcg = ndcg.mean()\n",
    "ndcg"
   ]
  },
  {
   "cell_type": "markdown",
   "id": "f0ae50ca-4f4c-4a22-b7e8-3924d1894c42",
   "metadata": {},
   "source": [
    "# Verification"
   ]
  },
  {
   "cell_type": "code",
   "execution_count": 77,
   "id": "50769a74-4298-480d-be65-e5bf0e301488",
   "metadata": {},
   "outputs": [],
   "source": [
    "def callback(a, dim):\n",
    "    return a"
   ]
  },
  {
   "cell_type": "code",
   "execution_count": 78,
   "id": "e8b000a3-d81c-4c9d-a36e-c0b00231dca5",
   "metadata": {},
   "outputs": [
    {
     "data": {
      "text/plain": [
       "tensor([0.5693, 0.3855])"
      ]
     },
     "execution_count": 78,
     "metadata": {},
     "output_type": "execute_result"
    }
   ],
   "source": [
    "ndcg = RetrievalNormalizedDCG(top_k=K, aggregation=callback)\n",
    "\n",
    "indexes = torch.tensor([[i] * truth.size(1) for i in range(truth.size(0))])\n",
    "ndcg(preds.flatten(), truth.flatten(), indexes=indexes.flatten())"
   ]
  },
  {
   "cell_type": "code",
   "execution_count": null,
   "id": "a36d8d22-0b3f-471f-b626-875b2f322c52",
   "metadata": {},
   "outputs": [],
   "source": []
  },
  {
   "cell_type": "code",
   "execution_count": null,
   "id": "041f5dfb-05fa-4c80-9800-fc808beb009c",
   "metadata": {},
   "outputs": [],
   "source": []
  }
 ],
 "metadata": {
  "kernelspec": {
   "display_name": "Python 3 (ipykernel)",
   "language": "python",
   "name": "python3"
  },
  "language_info": {
   "codemirror_mode": {
    "name": "ipython",
    "version": 3
   },
   "file_extension": ".py",
   "mimetype": "text/x-python",
   "name": "python",
   "nbconvert_exporter": "python",
   "pygments_lexer": "ipython3",
   "version": "3.10.15"
  }
 },
 "nbformat": 4,
 "nbformat_minor": 5
}
