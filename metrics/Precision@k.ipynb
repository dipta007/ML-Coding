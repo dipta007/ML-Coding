{
 "cells": [
  {
   "cell_type": "code",
   "execution_count": 1,
   "id": "be8c010e-0281-47dc-b182-f26ab838f3fc",
   "metadata": {},
   "outputs": [],
   "source": [
    "import torch\n",
    "import numpy as np\n",
    "from torchmetrics.retrieval import RetrievalPrecision"
   ]
  },
  {
   "cell_type": "code",
   "execution_count": 2,
   "id": "a94d7614-bdaa-4dc4-b961-3cee6b216284",
   "metadata": {},
   "outputs": [],
   "source": [
    "K = 10"
   ]
  },
  {
   "cell_type": "code",
   "execution_count": 3,
   "id": "c1620d81-240a-489d-ae11-bde34c96819a",
   "metadata": {},
   "outputs": [
    {
     "name": "stdout",
     "output_type": "stream",
     "text": [
      "tensor([[1, 1, 0, 1, 1, 0, 1, 1, 1, 0, 0, 0, 1, 1, 1, 0, 1, 1, 0, 1],\n",
      "        [1, 0, 0, 0, 0, 1, 0, 1, 0, 0, 1, 1, 1, 0, 1, 1, 1, 1, 0, 0]])\n",
      "tensor([[0.1178, 0.1989, 0.7494, 0.2079, 0.6569, 0.6981, 0.6610, 0.1199, 0.8614,\n",
      "         0.3694, 0.5090, 0.4760, 0.8995, 0.4400, 0.9814, 0.1802, 0.2111, 0.1039,\n",
      "         0.4368, 0.8193],\n",
      "        [0.9768, 0.7369, 0.8575, 0.7330, 0.3215, 0.8537, 0.7263, 0.9917, 0.6288,\n",
      "         0.1281, 0.8372, 0.3063, 0.1469, 0.6352, 0.9181, 0.1906, 0.1552, 0.4872,\n",
      "         0.9725, 0.3317]])\n"
     ]
    }
   ],
   "source": [
    "truth = torch.rand(2, 20)\n",
    "truth = torch.where(truth >= 0.5, 1, 0)\n",
    "preds = torch.rand(2, 20)\n",
    "\n",
    "print(truth)\n",
    "print(preds)"
   ]
  },
  {
   "cell_type": "code",
   "execution_count": 4,
   "id": "0d7cd583-4fcf-4797-8772-83acee4610c6",
   "metadata": {},
   "outputs": [
    {
     "data": {
      "text/plain": [
       "(tensor([[0.1178, 0.1989, 0.7494, 0.2079, 0.6569, 0.6981, 0.6610, 0.1199, 0.8614,\n",
       "          0.3694, 0.5090, 0.4760, 0.8995, 0.4400, 0.9814, 0.1802, 0.2111, 0.1039,\n",
       "          0.4368, 0.8193],\n",
       "         [0.9768, 0.7369, 0.8575, 0.7330, 0.3215, 0.8537, 0.7263, 0.9917, 0.6288,\n",
       "          0.1281, 0.8372, 0.3063, 0.1469, 0.6352, 0.9181, 0.1906, 0.1552, 0.4872,\n",
       "          0.9725, 0.3317]]),\n",
       " tensor([[14, 12,  8, 19,  2,  5,  6,  4, 10, 11],\n",
       "         [ 7,  0, 18, 14,  2,  5, 10,  1,  3,  6]]))"
      ]
     },
     "execution_count": 4,
     "metadata": {},
     "output_type": "execute_result"
    }
   ],
   "source": [
    "indices = torch.topk(preds, k=K)[1]\n",
    "preds, indices"
   ]
  },
  {
   "cell_type": "code",
   "execution_count": 5,
   "id": "018a3b29-84c8-41fe-99bc-fd28ac309dfa",
   "metadata": {},
   "outputs": [
    {
     "data": {
      "text/plain": [
       "(tensor([[1, 1, 1, 1, 0, 0, 1, 1, 0, 0],\n",
       "         [1, 1, 0, 1, 0, 1, 1, 0, 0, 0]]),\n",
       " tensor([[0.9814, 0.8995, 0.8614, 0.8193, 0.7494, 0.6981, 0.6610, 0.6569, 0.5090,\n",
       "          0.4760],\n",
       "         [0.9917, 0.9768, 0.9725, 0.9181, 0.8575, 0.8537, 0.8372, 0.7369, 0.7330,\n",
       "          0.7263]]))"
      ]
     },
     "execution_count": 5,
     "metadata": {},
     "output_type": "execute_result"
    }
   ],
   "source": [
    "selected_truth = torch.gather(truth, 1, indices)\n",
    "selected_preds = torch.gather(preds, 1, indices)\n",
    "\n",
    "selected_truth, selected_preds"
   ]
  },
  {
   "cell_type": "code",
   "execution_count": 6,
   "id": "ca12d10b-0bbb-456a-a2ea-0e7c705c49de",
   "metadata": {},
   "outputs": [
    {
     "name": "stdout",
     "output_type": "stream",
     "text": [
      "tensor([0.6000, 0.5000])\n"
     ]
    },
    {
     "data": {
      "text/plain": [
       "tensor(0.5500)"
      ]
     },
     "execution_count": 6,
     "metadata": {},
     "output_type": "execute_result"
    }
   ],
   "source": [
    "pre_k = selected_truth.sum(dim=1) / K\n",
    "print(pre_k)\n",
    "pre_k = torch.mean(pre_k)\n",
    "pre_k"
   ]
  },
  {
   "cell_type": "markdown",
   "id": "6de5d78e-625f-4073-8a03-cd670d9d93fa",
   "metadata": {},
   "source": [
    "# Validation"
   ]
  },
  {
   "cell_type": "code",
   "execution_count": 8,
   "id": "25f59b04-2ec6-4752-a767-b1eaa3f8add8",
   "metadata": {},
   "outputs": [
    {
     "data": {
      "text/plain": [
       "tensor(0.5500)"
      ]
     },
     "execution_count": 8,
     "metadata": {},
     "output_type": "execute_result"
    }
   ],
   "source": [
    "p2 = RetrievalPrecision(top_k=K)\n",
    "\n",
    "indexes = torch.tensor([[i] * truth.size(1) for i in range(truth.size(0))])\n",
    "p2(preds.flatten(), truth.flatten(), indexes=indexes.flatten())"
   ]
  },
  {
   "cell_type": "code",
   "execution_count": null,
   "id": "37c03e90-4917-4029-93a3-a2dc09ec34bf",
   "metadata": {},
   "outputs": [],
   "source": []
  }
 ],
 "metadata": {
  "kernelspec": {
   "display_name": "Python 3 (ipykernel)",
   "language": "python",
   "name": "python3"
  },
  "language_info": {
   "codemirror_mode": {
    "name": "ipython",
    "version": 3
   },
   "file_extension": ".py",
   "mimetype": "text/x-python",
   "name": "python",
   "nbconvert_exporter": "python",
   "pygments_lexer": "ipython3",
   "version": "3.10.15"
  }
 },
 "nbformat": 4,
 "nbformat_minor": 5
}
