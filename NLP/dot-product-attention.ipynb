{
 "cells": [
  {
   "cell_type": "code",
   "execution_count": 44,
   "id": "a0e891d9-96cb-4338-bc9a-e3f3f120b2d0",
   "metadata": {},
   "outputs": [],
   "source": [
    "import torch\n",
    "import math"
   ]
  },
  {
   "cell_type": "code",
   "execution_count": 45,
   "id": "f9de3c9c-1e31-4a49-8d3e-2974a393fd19",
   "metadata": {},
   "outputs": [],
   "source": [
    "N, L, D = 2, 4, 6"
   ]
  },
  {
   "cell_type": "code",
   "execution_count": 190,
   "id": "ed699e70-b46a-42dd-8408-9e492d19e818",
   "metadata": {},
   "outputs": [],
   "source": [
    "def scaled_dot_product_attention(query, key, value, attn_mask=None, is_causal=False):\n",
    "    \"\"\"\n",
    "    query: N x L x D\n",
    "    key: N x L x D\n",
    "    value: N x L x D\n",
    "    \"\"\"\n",
    "    assert (bool(attn_mask is not None) and is_causal) == 0, \"Both cant be True\"\n",
    "\n",
    "    q_k = query @ key.transpose(-1, -2)\n",
    "    scaled_q_k = q_k * (1 / math.sqrt(query.size(-1)))\n",
    "\n",
    "    attn_bias = torch.zeros(L, L)\n",
    "    if attn_mask is not None:\n",
    "        attn_bias = attn_bias.masked_fill(attn_mask.logical_not(), float(\"-inf\"))\n",
    "\n",
    "    if is_causal:\n",
    "        tmp_mask = torch.ones(L, L).tril()\n",
    "        attn_bias = attn_bias.masked_fill(tmp_mask.logical_not(), float(\"-inf\"))\n",
    "\n",
    "    scaled_q_k += attn_bias\n",
    "    attn = torch.nn.functional.softmax(scaled_q_k, dim=-1)\n",
    "    weight_v = attn @ value\n",
    "    return weight_v"
   ]
  },
  {
   "cell_type": "code",
   "execution_count": 203,
   "id": "ee908b82-dfd7-467a-af3c-a8ba8538a33f",
   "metadata": {},
   "outputs": [
    {
     "data": {
      "text/plain": [
       "(torch.Size([2, 4, 6]), torch.Size([2, 4, 6]), torch.Size([2, 4, 6]))"
      ]
     },
     "execution_count": 203,
     "metadata": {},
     "output_type": "execute_result"
    }
   ],
   "source": [
    "query = torch.rand(N, L, D)\n",
    "key = torch.rand(N, L, D)\n",
    "value = torch.rand(N, L, D)\n",
    "\n",
    "query.shape, key.shape, value.shape"
   ]
  },
  {
   "cell_type": "code",
   "execution_count": 192,
   "id": "4b9e58ea-8152-4b18-ab45-14de380639d3",
   "metadata": {},
   "outputs": [],
   "source": [
    "res = scaled_dot_product_attention(query, key, value)"
   ]
  },
  {
   "cell_type": "markdown",
   "id": "ddc50fa5-0f82-4baa-a90b-29afe3fdc6a7",
   "metadata": {},
   "source": [
    "# Verification"
   ]
  },
  {
   "cell_type": "markdown",
   "id": "5b92b890-ad56-454b-ad7c-8c2d54e80af6",
   "metadata": {},
   "source": [
    "## Self Attention"
   ]
  },
  {
   "cell_type": "code",
   "execution_count": 193,
   "id": "81975be3-f76d-47c0-8952-7594e65e7405",
   "metadata": {},
   "outputs": [],
   "source": [
    "orig = torch.nn.functional.scaled_dot_product_attention(query, key, value)"
   ]
  },
  {
   "cell_type": "code",
   "execution_count": 194,
   "id": "ab3ac36f-f7af-46ba-af10-edf0bfc7a7d0",
   "metadata": {},
   "outputs": [],
   "source": [
    "res = scaled_dot_product_attention(query, key, value)"
   ]
  },
  {
   "cell_type": "code",
   "execution_count": 195,
   "id": "93c64d5c-da3a-4d68-b6ab-9ba141ed9e28",
   "metadata": {},
   "outputs": [
    {
     "data": {
      "text/plain": [
       "tensor(True)"
      ]
     },
     "execution_count": 195,
     "metadata": {},
     "output_type": "execute_result"
    }
   ],
   "source": [
    "torch.all((orig - res) < 1e-5)"
   ]
  },
  {
   "cell_type": "markdown",
   "id": "b93f986f-551b-408c-9c29-46a692268db1",
   "metadata": {},
   "source": [
    "## Causal Attention"
   ]
  },
  {
   "cell_type": "code",
   "execution_count": 196,
   "id": "c25ce010-4a4a-4353-bdb5-5756831821a8",
   "metadata": {},
   "outputs": [],
   "source": [
    "orig = torch.nn.functional.scaled_dot_product_attention(query, key, value, is_causal=True)"
   ]
  },
  {
   "cell_type": "code",
   "execution_count": 197,
   "id": "3e71096c-b8b0-4502-9eeb-f25b583955cc",
   "metadata": {},
   "outputs": [],
   "source": [
    "res = scaled_dot_product_attention(query, key, value, is_causal=True)"
   ]
  },
  {
   "cell_type": "code",
   "execution_count": 198,
   "id": "8af6cd9c-bed9-425a-b44a-92d49aafbf36",
   "metadata": {},
   "outputs": [
    {
     "data": {
      "text/plain": [
       "tensor(True)"
      ]
     },
     "execution_count": 198,
     "metadata": {},
     "output_type": "execute_result"
    }
   ],
   "source": [
    "torch.all((orig - res) < 1e-5)"
   ]
  },
  {
   "cell_type": "markdown",
   "id": "1418b18c-bd26-4027-918f-a1bb53e9f105",
   "metadata": {},
   "source": [
    "## Masked Attention"
   ]
  },
  {
   "cell_type": "code",
   "execution_count": 199,
   "id": "400332a7-6a75-4691-86c8-6e40f260debc",
   "metadata": {},
   "outputs": [],
   "source": [
    "mask = torch.rand(L, L) > 0.5"
   ]
  },
  {
   "cell_type": "code",
   "execution_count": 200,
   "id": "29b00fba-84a1-4823-9522-0c71ad5578dc",
   "metadata": {},
   "outputs": [],
   "source": [
    "orig = torch.nn.functional.scaled_dot_product_attention(query, key, value, attn_mask=mask)"
   ]
  },
  {
   "cell_type": "code",
   "execution_count": 201,
   "id": "693e4fe2-b706-4d56-9ff7-3923820555a8",
   "metadata": {},
   "outputs": [],
   "source": [
    "res = scaled_dot_product_attention(query, key, value, attn_mask=mask)"
   ]
  },
  {
   "cell_type": "code",
   "execution_count": 202,
   "id": "0c8fdf3a-5727-4c21-8c95-6391964b97ab",
   "metadata": {},
   "outputs": [
    {
     "data": {
      "text/plain": [
       "tensor(True)"
      ]
     },
     "execution_count": 202,
     "metadata": {},
     "output_type": "execute_result"
    }
   ],
   "source": [
    "torch.all((orig - res) < 1e-5)"
   ]
  },
  {
   "cell_type": "code",
   "execution_count": null,
   "id": "26a5ef62-859c-4e6a-be5f-58e978741d30",
   "metadata": {},
   "outputs": [],
   "source": []
  }
 ],
 "metadata": {
  "kernelspec": {
   "display_name": "Python 3 (ipykernel)",
   "language": "python",
   "name": "python3"
  },
  "language_info": {
   "codemirror_mode": {
    "name": "ipython",
    "version": 3
   },
   "file_extension": ".py",
   "mimetype": "text/x-python",
   "name": "python",
   "nbconvert_exporter": "python",
   "pygments_lexer": "ipython3",
   "version": "3.10.15"
  }
 },
 "nbformat": 4,
 "nbformat_minor": 5
}
