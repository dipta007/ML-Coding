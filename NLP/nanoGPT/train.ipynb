{
 "cells": [
  {
   "cell_type": "code",
   "execution_count": 225,
   "id": "b3655e55-c897-4b1a-9182-2aa145d4d440",
   "metadata": {},
   "outputs": [
    {
     "data": {
      "text/plain": [
       "<torch._C.Generator at 0x112ea13f0>"
      ]
     },
     "execution_count": 225,
     "metadata": {},
     "output_type": "execute_result"
    }
   ],
   "source": [
    "import torch\n",
    "import random\n",
    "from torch import nn\n",
    "from torch.utils.data import Dataset, DataLoader\n",
    "from tqdm.auto import tqdm, trange\n",
    "import torch.nn.functional as F\n",
    "\n",
    "random.seed(42)\n",
    "torch.manual_seed(42)"
   ]
  },
  {
   "cell_type": "code",
   "execution_count": 226,
   "id": "eb848573-63cc-4f13-bdc2-e62b348d827f",
   "metadata": {},
   "outputs": [
    {
     "data": {
      "text/plain": [
       "'mps'"
      ]
     },
     "execution_count": 226,
     "metadata": {},
     "output_type": "execute_result"
    }
   ],
   "source": [
    "device = \"cuda\" if torch.cuda.is_available() else \"cpu\"\n",
    "device = \"mps\" if torch.backends.mps.is_available() else device\n",
    "device"
   ]
  },
  {
   "cell_type": "code",
   "execution_count": 278,
   "id": "0d6e28d8-4a18-4bff-8bcb-dab47d5be7ab",
   "metadata": {},
   "outputs": [],
   "source": [
    "EPOCH=5000\n",
    "BATCH_SIZE=64\n",
    "CONTEXT_LENGTH=256\n",
    "NUM_HEADS=6\n",
    "HIDDEN_DIM=384\n",
    "NUM_BLOCKS=6\n",
    "LR=1e-3\n",
    "eval_iters=100"
   ]
  },
  {
   "cell_type": "markdown",
   "id": "6966497b-2ce7-4da7-9333-cf84591768fb",
   "metadata": {},
   "source": [
    "# Read Data"
   ]
  },
  {
   "cell_type": "code",
   "execution_count": 279,
   "id": "ee0bd5f2-9558-474e-8f48-f8007a1a495f",
   "metadata": {},
   "outputs": [
    {
     "data": {
      "text/plain": [
       "(1115394, 65)"
      ]
     },
     "execution_count": 279,
     "metadata": {},
     "output_type": "execute_result"
    }
   ],
   "source": [
    "with open('./data/input.txt', 'r') as fp:\n",
    "    data = fp.readlines()\n",
    "\n",
    "data = \"\".join(data)\n",
    "chars = sorted(list(set(\"\".join(data))))\n",
    "\n",
    "len(data), len(chars)"
   ]
  },
  {
   "cell_type": "markdown",
   "id": "93dc41da-5012-49aa-bcbc-210284d4d295",
   "metadata": {},
   "source": [
    "# Prepare Tokenizer"
   ]
  },
  {
   "cell_type": "code",
   "execution_count": 280,
   "id": "a2bb574a-fadb-4c9a-b383-8cdae07953a6",
   "metadata": {},
   "outputs": [
    {
     "name": "stdout",
     "output_type": "stream",
     "text": [
      "\n",
      " !$&',-.3:;?ABCDEFGHIJKLMNOPQRSTUVWXYZabcdefghijklmnopqrstuvwxyz\n",
      "{'\\n': 0, ' ': 1, '!': 2, '$': 3, '&': 4, \"'\": 5, ',': 6, '-': 7, '.': 8, '3': 9, ':': 10, ';': 11, '?': 12, 'A': 13, 'B': 14, 'C': 15, 'D': 16, 'E': 17, 'F': 18, 'G': 19, 'H': 20, 'I': 21, 'J': 22, 'K': 23, 'L': 24, 'M': 25, 'N': 26, 'O': 27, 'P': 28, 'Q': 29, 'R': 30, 'S': 31, 'T': 32, 'U': 33, 'V': 34, 'W': 35, 'X': 36, 'Y': 37, 'Z': 38, 'a': 39, 'b': 40, 'c': 41, 'd': 42, 'e': 43, 'f': 44, 'g': 45, 'h': 46, 'i': 47, 'j': 48, 'k': 49, 'l': 50, 'm': 51, 'n': 52, 'o': 53, 'p': 54, 'q': 55, 'r': 56, 's': 57, 't': 58, 'u': 59, 'v': 60, 'w': 61, 'x': 62, 'y': 63, 'z': 64}\n",
      "{0: '\\n', 1: ' ', 2: '!', 3: '$', 4: '&', 5: \"'\", 6: ',', 7: '-', 8: '.', 9: '3', 10: ':', 11: ';', 12: '?', 13: 'A', 14: 'B', 15: 'C', 16: 'D', 17: 'E', 18: 'F', 19: 'G', 20: 'H', 21: 'I', 22: 'J', 23: 'K', 24: 'L', 25: 'M', 26: 'N', 27: 'O', 28: 'P', 29: 'Q', 30: 'R', 31: 'S', 32: 'T', 33: 'U', 34: 'V', 35: 'W', 36: 'X', 37: 'Y', 38: 'Z', 39: 'a', 40: 'b', 41: 'c', 42: 'd', 43: 'e', 44: 'f', 45: 'g', 46: 'h', 47: 'i', 48: 'j', 49: 'k', 50: 'l', 51: 'm', 52: 'n', 53: 'o', 54: 'p', 55: 'q', 56: 'r', 57: 's', 58: 't', 59: 'u', 60: 'v', 61: 'w', 62: 'x', 63: 'y', 64: 'z'}\n"
     ]
    }
   ],
   "source": [
    "c2i = {c: i for i, c in enumerate(chars)}\n",
    "i2c = {i: c for i, c in enumerate(chars)}\n",
    "\n",
    "print(\"\".join(chars))\n",
    "print(c2i)\n",
    "print(i2c)"
   ]
  },
  {
   "cell_type": "code",
   "execution_count": 281,
   "id": "8854c546-7c35-499d-8a26-59c4296fbf83",
   "metadata": {},
   "outputs": [],
   "source": [
    "def encode(s):\n",
    "    return [c2i[c] for c in s]\n",
    "\n",
    "def decode(tokens):\n",
    "    return \"\".join(i2c[ix] for ix in tokens)"
   ]
  },
  {
   "cell_type": "markdown",
   "id": "36b9d7b4-6613-486a-8d0c-ca3ff42c890f",
   "metadata": {},
   "source": [
    "# Prepare Data Split"
   ]
  },
  {
   "cell_type": "code",
   "execution_count": 282,
   "id": "14ea3270-108b-4d5e-b02f-f9e943e62e8e",
   "metadata": {},
   "outputs": [
    {
     "data": {
      "text/plain": [
       "(1003854, 111540)"
      ]
     },
     "execution_count": 282,
     "metadata": {},
     "output_type": "execute_result"
    }
   ],
   "source": [
    "n = int(0.9 * len(data))\n",
    "train_data = data[:n]\n",
    "val_data = data[n:]\n",
    "\n",
    "len(train_data), len(val_data)"
   ]
  },
  {
   "cell_type": "markdown",
   "id": "11a4cbad-3bc5-4afc-a7d6-d326c81857d2",
   "metadata": {},
   "source": [
    "# Dataloader"
   ]
  },
  {
   "cell_type": "code",
   "execution_count": 283,
   "id": "b7bcde64-1418-45a6-ab9e-98fdf18b5764",
   "metadata": {},
   "outputs": [],
   "source": [
    "class Poem(Dataset):\n",
    "    def __init__(self, split):\n",
    "        self.data = train_data if split == 'train' else val_data\n",
    "\n",
    "    def __getitem__(self, idx):\n",
    "        x = self.data[idx: idx+CONTEXT_LENGTH]\n",
    "        y = self.data[idx+1: idx+CONTEXT_LENGTH+1]\n",
    "        return x, y\n",
    "\n",
    "    def __len__(self):\n",
    "        return len(self.data) - CONTEXT_LENGTH\n",
    "\n",
    "    def collate_fn(self, batch):\n",
    "        x = [b[0] for b in batch]\n",
    "        y = [b[1] for b in batch]\n",
    "\n",
    "        tx = [encode(xx) for xx in x]\n",
    "        ty = [encode(yy) for yy in y]\n",
    "\n",
    "        return torch.tensor(tx).long(), torch.tensor(ty).long()"
   ]
  },
  {
   "cell_type": "code",
   "execution_count": 284,
   "id": "320e4b94-89d9-432a-9135-a26addf4d404",
   "metadata": {},
   "outputs": [],
   "source": [
    "train_ds = Poem('train')\n",
    "val_ds = Poem('val')"
   ]
  },
  {
   "cell_type": "code",
   "execution_count": 285,
   "id": "b1d7e0c7-dd09-4f35-8b8f-1f17b764b740",
   "metadata": {},
   "outputs": [],
   "source": [
    "train_dl = DataLoader(train_ds, shuffle=True, batch_size=BATCH_SIZE, collate_fn=train_ds.collate_fn)\n",
    "val_dl = DataLoader(val_ds, shuffle=False, batch_size=BATCH_SIZE, collate_fn=val_ds.collate_fn)"
   ]
  },
  {
   "cell_type": "markdown",
   "id": "65715a92-cfd0-43df-98a6-01b95e289d5d",
   "metadata": {},
   "source": [
    "# Model"
   ]
  },
  {
   "cell_type": "code",
   "execution_count": 286,
   "id": "2a2e5b1e-e183-4f65-91a8-fecfc23369c5",
   "metadata": {},
   "outputs": [],
   "source": [
    "class SelfAttention(nn.Module):\n",
    "    def __init__(self, hidden_dim, head_size, masked):\n",
    "        super().__init__()\n",
    "        self.Q = nn.Linear(hidden_dim, head_size, bias=False)\n",
    "        self.K = nn.Linear(hidden_dim, head_size, bias=False)\n",
    "        self.V = nn.Linear(hidden_dim, head_size, bias=False)\n",
    "\n",
    "        self.hidden_dim = hidden_dim\n",
    "        self.head_size = head_size\n",
    "        self.masked = masked\n",
    "\n",
    "    def forward(self, x): # B, T, D\n",
    "        query = self.Q(x) # B, T, H\n",
    "        key   = self.K(x) # B, T. H\n",
    "        value = self.V(x) # B, T. H\n",
    "\n",
    "        wei = torch.bmm(query, key.transpose(-2, -1)) # B, T, T\n",
    "        wei = wei * (self.head_size ** 0.5)\n",
    "\n",
    "        if self.masked:\n",
    "            mask = torch.tril(torch.ones(x.size(1), x.size(1))).to(x.device)\n",
    "            wei = wei.masked_fill(mask == 0, float('-inf'))\n",
    "\n",
    "        wei = F.softmax(wei, dim=-1)\n",
    "\n",
    "        out = torch.bmm(wei, value) # B, T, H\n",
    "\n",
    "        return out"
   ]
  },
  {
   "cell_type": "code",
   "execution_count": 287,
   "id": "c03a88fc-3008-4e3d-b843-a203e6592a53",
   "metadata": {},
   "outputs": [],
   "source": [
    "class MultiHeadAttention(nn.Module):\n",
    "    def __init__(self, hidden_dim, num_heads, head_size, masked):\n",
    "        super().__init__()\n",
    "        self.heads = nn.ModuleList([SelfAttention(hidden_dim, head_size, masked) for _ in range(num_heads)])\n",
    "        self.proj = nn.Linear(hidden_dim, hidden_dim)\n",
    "\n",
    "    def forward(self, x):\n",
    "        x =  torch.cat([h(x) for h in self.heads], dim=-1)\n",
    "        x = self.proj(x)\n",
    "        return x"
   ]
  },
  {
   "cell_type": "code",
   "execution_count": 288,
   "id": "d764ad48-f9a4-43aa-ac0a-41427b9ceb1d",
   "metadata": {},
   "outputs": [],
   "source": [
    "class FeedForward(nn.Module):\n",
    "    def __init__(self, hidden_size):\n",
    "        super().__init__()\n",
    "        self.net = nn.Sequential(\n",
    "            nn.Linear(hidden_size, 4*hidden_size),\n",
    "            nn.ReLU(),\n",
    "            nn.Linear(4*hidden_size, hidden_size)\n",
    "        )\n",
    "\n",
    "    def forward(self, x):\n",
    "        return self.net(x)"
   ]
  },
  {
   "cell_type": "code",
   "execution_count": 289,
   "id": "87adeeb3-2ab9-4193-81d1-155b2f8d8c73",
   "metadata": {},
   "outputs": [],
   "source": [
    "class Block(nn.Module):\n",
    "    def __init__(self, hidden_dim, num_heads, masked):\n",
    "        super().__init__()\n",
    "        self.attn = MultiHeadAttention(hidden_dim, num_heads, hidden_dim//num_heads, masked=True)\n",
    "        self.fc = FeedForward(hidden_dim)\n",
    "        self.ln1 = nn.LayerNorm(hidden_dim)\n",
    "        self.ln2 = nn.LayerNorm(hidden_dim)\n",
    "\n",
    "    def forward(self, x): # B, T, D\n",
    "        x = x + self.attn(self.ln1(x))  # B, T, D\n",
    "        x = x + self.fc(self.ln2(x))    # B, T, D\n",
    "        return x"
   ]
  },
  {
   "cell_type": "code",
   "execution_count": 290,
   "id": "462568c0-dcfa-4b38-8106-9c0231bb68e6",
   "metadata": {},
   "outputs": [],
   "source": [
    "class GPT(nn.Module):\n",
    "    def __init__(self, vocab_size=len(chars), hidden_dim=HIDDEN_DIM, num_heads=NUM_HEADS, num_blocks=NUM_BLOCKS):\n",
    "        super().__init__()\n",
    "        self.word_emb = nn.Embedding(vocab_size, hidden_dim)\n",
    "        self.pos_emb = nn.Embedding(vocab_size, hidden_dim)\n",
    "        self.blocks = nn.ModuleList([Block(hidden_dim, num_heads, masked=True) for _ in range(num_blocks)])\n",
    "        self.ln = nn.LayerNorm(hidden_dim)\n",
    "        self.lm_head = nn.Linear(hidden_dim, vocab_size)\n",
    "\n",
    "    def forward(self, x):\n",
    "        B, T = x.size()\n",
    "        word_emb = self.word_emb(x)\n",
    "        pos_emb = self.pos_emb(torch.arange(T).to(x.device))\n",
    "        x = word_emb + pos_emb\n",
    "        for block in self.blocks:\n",
    "            x = block(x)\n",
    "        x = self.ln(x)\n",
    "        logits = self.lm_head(x)\n",
    "        return logits\n",
    "\n",
    "    def generate(self, idx, max_new_tokens=100):\n",
    "        for _ in trange(max_new_tokens):\n",
    "            idx_cond = idx[:, -CONTEXT_LENGTH:] # B, T\n",
    "            logits = self(idx_cond) # B, T, V\n",
    "            logits = logits[:, -1, :] # B, V\n",
    "            probs = F.softmax(logits, dim=-1) # B, V\n",
    "            idx_next = torch.multinomial(probs, num_samples=1) # B, 1\n",
    "            idx = torch.cat((idx, idx_next), dim=1)\n",
    "\n",
    "        return idx"
   ]
  },
  {
   "cell_type": "code",
   "execution_count": 295,
   "id": "5e9b16b9-f9b6-40db-991c-e4bde64b0d77",
   "metadata": {},
   "outputs": [
    {
     "name": "stdout",
     "output_type": "stream",
     "text": [
      "10.715585 M parameters\n"
     ]
    }
   ],
   "source": [
    "model = GPT()\n",
    "model = model.to(device)\n",
    "\n",
    "print(sum(p.numel() for p in model.parameters())/1e6, 'M parameters')"
   ]
  },
  {
   "cell_type": "markdown",
   "id": "4fde6f6d-7b5c-41e5-9d17-5849df3dcc55",
   "metadata": {},
   "source": [
    "# Loss and Optimizer"
   ]
  },
  {
   "cell_type": "code",
   "execution_count": 296,
   "id": "d953676f-64dc-4da3-9576-dec2181e7630",
   "metadata": {},
   "outputs": [],
   "source": [
    "optimizer = torch.optim.AdamW(model.parameters(), lr=LR)"
   ]
  },
  {
   "cell_type": "code",
   "execution_count": 297,
   "id": "5a2c3094-6730-4bbd-ab88-eb0a66e5cca9",
   "metadata": {},
   "outputs": [],
   "source": [
    "criterion = torch.nn.CrossEntropyLoss()"
   ]
  },
  {
   "cell_type": "code",
   "execution_count": null,
   "id": "87b715c9-4a29-4988-8d5a-138c9f42b6fe",
   "metadata": {},
   "outputs": [
    {
     "data": {
      "application/vnd.jupyter.widget-view+json": {
       "model_id": "a2d4b001db754b688a7749e99249f978",
       "version_major": 2,
       "version_minor": 0
      },
      "text/plain": [
       "  0%|          | 0/5000 [00:00<?, ?it/s]"
      ]
     },
     "metadata": {},
     "output_type": "display_data"
    },
    {
     "name": "stdout",
     "output_type": "stream",
     "text": [
      "Epoch    99: Loss: 2.4584341049194336\n",
      "Epoch   199: Loss: 2.4265639781951904\n",
      "Epoch   299: Loss: 2.4923882484436035\n",
      "Epoch   399: Loss: 2.519167423248291\n",
      "Epoch   499: Loss: 2.504331588745117\n",
      "Epoch   599: Loss: 2.467440605163574\n",
      "Epoch   699: Loss: 2.58248233795166\n",
      "Epoch   799: Loss: 2.550795555114746\n",
      "Epoch   899: Loss: 3.003087043762207\n",
      "Epoch   999: Loss: 2.535935878753662\n",
      "Epoch  1099: Loss: 2.5138015747070312\n",
      "Epoch  1199: Loss: 2.471226692199707\n",
      "Epoch  1299: Loss: 2.5226798057556152\n",
      "Epoch  1399: Loss: 2.5677647590637207\n",
      "Epoch  1499: Loss: 2.553126811981201\n",
      "Epoch  1599: Loss: 2.520456552505493\n",
      "Epoch  1699: Loss: 2.7638235092163086\n",
      "Epoch  1799: Loss: 2.54241943359375\n",
      "Epoch  1899: Loss: 2.50964093208313\n",
      "Epoch  1999: Loss: 2.4824211597442627\n",
      "Epoch  2099: Loss: 2.4979910850524902\n",
      "Epoch  2199: Loss: 2.520541191101074\n",
      "Epoch  2299: Loss: 2.4692108631134033\n"
     ]
    }
   ],
   "source": [
    "losses = []\n",
    "for epoch in trange(EPOCH):\n",
    "    for batch in train_dl:\n",
    "        x, y = batch\n",
    "        x = x.to(device)\n",
    "        y = y.to(device)\n",
    "\n",
    "        logits = model(x)\n",
    "        loss = criterion(logits.view(-1, logits.size(-1)), y.view(-1))\n",
    "\n",
    "        optimizer.zero_grad(set_to_none=True)\n",
    "        loss.backward()\n",
    "        optimizer.step()\n",
    "\n",
    "        # if len(losses) % 100 == 0:\n",
    "        losses.append(loss)\n",
    "\n",
    "        break\n",
    "    if len(losses) % 100 == 0:\n",
    "        print(f\"Epoch {epoch:5d}: Loss: {losses[-1]}\")\n",
    "print(f\"loss: {losses[-1]}\")"
   ]
  },
  {
   "cell_type": "code",
   "execution_count": 276,
   "id": "6073bcad-6b5a-4c5d-9f71-d88d37c67002",
   "metadata": {},
   "outputs": [
    {
     "data": {
      "text/plain": [
       "[<matplotlib.lines.Line2D at 0x1a5001d20>]"
      ]
     },
     "execution_count": 276,
     "metadata": {},
     "output_type": "execute_result"
    },
    {
     "data": {
      "image/png": "[encoded data removed]",
      "text/plain": [
       "<Figure size 640x480 with 1 Axes>"
      ]
     },
     "metadata": {},
     "output_type": "display_data"
    }
   ],
   "source": [
    "import matplotlib.pyplot as plt\n",
    "\n",
    "plt.plot([torch.log(l).item() for l in losses])"
   ]
  },
  {
   "cell_type": "code",
   "execution_count": 254,
   "id": "31b97c12-8a40-43b1-9042-1df7cf76a569",
   "metadata": {},
   "outputs": [],
   "source": [
    "@torch.no_grad()\n",
    "def estimate_loss():\n",
    "    out = {}\n",
    "    model.eval()\n",
    "    for split in ['train', 'val']:\n",
    "        losses = torch.zeros(eval_iters)\n",
    "        for k in range(eval_iters):\n",
    "            X, Y = get_batch(split)\n",
    "            logits, loss = model(X, Y)\n",
    "            losses[k] = loss.item()\n",
    "        out[split] = losses.mean()\n",
    "    model.train()\n",
    "    return out"
   ]
  },
  {
   "cell_type": "code",
   "execution_count": 255,
   "id": "b934fced-b1a8-438a-99e0-7f0dcf44f7f0",
   "metadata": {},
   "outputs": [
    {
     "data": {
      "application/vnd.jupyter.widget-view+json": {
       "model_id": "12d4a170d7f343229913562a1e438a16",
       "version_major": 2,
       "version_minor": 0
      },
      "text/plain": [
       "  0%|          | 0/2000 [00:00<?, ?it/s]"
      ]
     },
     "metadata": {},
     "output_type": "display_data"
    },
    {
     "name": "stdout",
     "output_type": "stream",
     "text": [
      "\n",
      "N \n",
      "i? vdeuaHr sboLot\n",
      "\n",
      "ioIilela ' midSnt r ,tromwlc  \n",
      "d tdei of'xns nodea m\n",
      "hahhoaq fiaa.tsnsylo ud? gA-sn?to saddCtarfnrursMhaorya attu  taiymuat cNd a i  Hh hIiiltmpOfeN\n",
      " eeL b lr\n",
      " wNt  lhuhmcd\n",
      "oefrrn  dnhekamscien;eolnhhztme\n",
      "ei l,hioMR hr\n",
      "dhcSymwae ory ot\n",
      " yddpweaallPl eusdrt p r\n",
      "t klsro KliniaMiawhhtug: ,eaaoeia e;y  \n",
      "ms  .i ntnNh \n",
      "hieRuui\n",
      "s lrotm  c ht A e p.\n",
      "jsy\n",
      ":t  eCgEdewah Lhtoyndli\n",
      "'Agencchll\n",
      "o rf m \n",
      "HplfeefdGarDdaetsi d naioiA u ycltoceiu lwaTRd h s eim\n",
      "Vrured c,s ut  e snrab.ioLoe or:Rmninoia  rt ro  ht\n",
      "\n",
      " o MAaensae oruihe,ledytSs psc irio\n",
      "a aesCgsod ;Ha\n",
      "h hNhoal!hgr 'edao seabrirsmnimdlojHhWrse tuiNd   i\n",
      "nSav saltN, rhraNBer oaee\n",
      "cvmre T' erRws r fWrdev:,owsr nrr E,alietc e\n",
      "s aE  \n",
      "leyps\n",
      " y\n",
      "kv e Vsf hpesohhhwyMi\n",
      " !rusBdE:ixRDoesssi diRley;  lsietsa\n",
      "tt  Amreak\n",
      "fnanscJ\n",
      "uo:mAhw\n",
      "scin Kme yio lwnh aykrttmocF\n",
      " :prfqheO ew:\n",
      "Roi C eeNy ea dsgihhhohEcahsacQ\n",
      "enotg i's ee.avebIioeR r mvoo\n",
      "enotrzNdfbetenhgohatuem y AtItg Bwirce!wtlteAmooea\n",
      "yefhas I.irH,\n",
      "s?nsd Ltyc o aoeesr:f\n",
      "NtM reoMrnwogotiaeel,h tseaeireeo Set\n",
      "a\n",
      "atNumnaqw,rcct lcF\n",
      "   o;aaT  hVeenSrfuoMaonf dele,hht 'eucieasNdcomE  ai\n",
      "  wsdlHoTI\n",
      "dekyndeomr  aMhsiIAmon' ttued s'tHsrRoait Ytothca\n",
      "aeoesT'cween,v satdea'elhnaoss iweCy daM ir nnc kensyrn wh,iihrs\n",
      "uhhanekct udn eadlrEi p;,enoOrtIr.ip  \n",
      "r\n",
      "Synhpoo eaiotoe:sM  e cfBrhihlgAlo\n",
      "wRiadsk'pfLNmranLaoyhh\n",
      "gyuo;nineg esUv ci\n",
      "fg  sarMo hIotre.? oyusus ,EnIEo.cuiusccGignsdroil\n",
      "ta,shu tNienEnWsrosty Tbsc' tr cche \n",
      "ehsy estue ht oAai\n",
      "ys'C y:orEyMnitnmehtwtu\n",
      "k.ahiicrauntt.dalssyssfBd\n",
      "u ha\n",
      "taoal d  Ittyyruntdfsey vthoEi-\n",
      ",usenoo s:tyMoLbodowi crCuaydinba d f\n",
      "yrycf u,hmboo W  msd:  ray  aia uiKlnnnu  l utBrsiuE i tat Bc xAyliid f a'lu. rnN.iwwb,cyeoMgUm uNo lh.odwCbot\n",
      " I\n",
      "a \n",
      "i\n",
      "nU dPghm wfnbS\n",
      "e\n",
      "etchiolgy!au ai  hlseso metbiise ttaqrC\n",
      "rQ\n",
      "unHfsh artf\n",
      "tpssradeseEaitt ateaT\n",
      "neilectess\n",
      "Chyo ,ehyvoe\n",
      "\n",
      " httb meav duAehe yselih\n",
      "Mre tA temrett \n",
      "tdoi t'vh\n",
      "sft-vrhMiiFmloCg.  yn amtdl mFn ite;xd Gansl p r:\n",
      "eee  iGu;aolThc!uc pgtTo tlnhspt h\n",
      "n  eno ovment  a ,lm\n",
      "ego\n",
      "c r\n",
      "eg lb \n",
      "'sooyIc t tA\n"
     ]
    }
   ],
   "source": [
    "# generate from the model\n",
    "context = torch.zeros((1, 1), dtype=torch.long, device=device)\n",
    "print(decode(model.generate(context, max_new_tokens=2000)[0].tolist()))"
   ]
  },
  {
   "cell_type": "code",
   "execution_count": null,
   "id": "e42b041d-351d-4189-bf10-19d14c554484",
   "metadata": {},
   "outputs": [],
   "source": []
  },
  {
   "cell_type": "code",
   "execution_count": null,
   "id": "a6ad001f-1bf5-4f2c-ab1b-2ab19718b0fb",
   "metadata": {},
   "outputs": [],
   "source": []
  }
 ],
 "metadata": {
  "kernelspec": {
   "display_name": "Python 3 (ipykernel)",
   "language": "python",
   "name": "python3"
  },
  "language_info": {
   "codemirror_mode": {
    "name": "ipython",
    "version": 3
   },
   "file_extension": ".py",
   "mimetype": "text/x-python",
   "name": "python",
   "nbconvert_exporter": "python",
   "pygments_lexer": "ipython3",
   "version": "3.10.15"
  }
 },
 "nbformat": 4,
 "nbformat_minor": 5
}
