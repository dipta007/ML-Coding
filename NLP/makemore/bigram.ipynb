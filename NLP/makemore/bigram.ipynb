{
 "cells": [
  {
   "cell_type": "code",
   "execution_count": 1,
   "id": "bc81d415-e390-4c2c-915c-c9fae6a3b973",
   "metadata": {},
   "outputs": [],
   "source": [
    "import torch"
   ]
  },
  {
   "cell_type": "code",
   "execution_count": 6,
   "id": "cb9aec0f-7fb1-4954-9eb8-9a4ef5024ec9",
   "metadata": {},
   "outputs": [],
   "source": [
    "names = open('./data/names.txt', 'r').read().split()"
   ]
  },
  {
   "cell_type": "code",
   "execution_count": 9,
   "id": "5ff84912-df90-4f99-9200-47e38efa326d",
   "metadata": {},
   "outputs": [
    {
     "data": {
      "text/plain": [
       "['emma',\n",
       " 'olivia',\n",
       " 'ava',\n",
       " 'isabella',\n",
       " 'sophia',\n",
       " 'charlotte',\n",
       " 'mia',\n",
       " 'amelia',\n",
       " 'harper',\n",
       " 'evelyn']"
      ]
     },
     "execution_count": 9,
     "metadata": {},
     "output_type": "execute_result"
    }
   ],
   "source": [
    "names[:10]"
   ]
  },
  {
   "cell_type": "code",
   "execution_count": 10,
   "id": "33e875e8-a02e-4b2e-af95-0583eebedb6e",
   "metadata": {},
   "outputs": [
    {
     "data": {
      "text/plain": [
       "32033"
      ]
     },
     "execution_count": 10,
     "metadata": {},
     "output_type": "execute_result"
    }
   ],
   "source": [
    "len(names)"
   ]
  },
  {
   "cell_type": "code",
   "execution_count": 13,
   "id": "cf2539d4-92fe-46a9-8f8f-1fff2d84a68d",
   "metadata": {},
   "outputs": [
    {
     "data": {
      "text/plain": [
       "2"
      ]
     },
     "execution_count": 13,
     "metadata": {},
     "output_type": "execute_result"
    }
   ],
   "source": [
    "min(len(w) for w in names)"
   ]
  },
  {
   "cell_type": "code",
   "execution_count": 14,
   "id": "2e933d5e-481b-4c65-8b1f-cf1b24b895ad",
   "metadata": {},
   "outputs": [
    {
     "data": {
      "text/plain": [
       "15"
      ]
     },
     "execution_count": 14,
     "metadata": {},
     "output_type": "execute_result"
    }
   ],
   "source": [
    "max(len(w) for w in names)"
   ]
  },
  {
   "cell_type": "code",
   "execution_count": 77,
   "id": "889b879c-20c0-4f73-942f-51e6425415f4",
   "metadata": {},
   "outputs": [],
   "source": [
    "chars = sorted(list(set(\"\".join(names))))\n",
    "chars =  chars + [\".\"]\n",
    "\n",
    "c_to_ind = {c: i for i, c in enumerate(chars)}\n",
    "ind_to_c = {i: c for i, c in enumerate(chars)}"
   ]
  },
  {
   "cell_type": "code",
   "execution_count": 83,
   "id": "37cab4b1-fde1-40a5-99f9-bad858ae8585",
   "metadata": {},
   "outputs": [],
   "source": [
    "counter = torch.zeros((27, 27), dtype=torch.int32)\n",
    "\n",
    "for w in names:\n",
    "    fnames = [\".\"] + list(w) + [\".\"]\n",
    "    for ch1, ch2 in zip(fnames, fnames[1:]):\n",
    "        ind1 = c_to_ind[ch1]\n",
    "        ind2 = c_to_ind[ch2]\n",
    "\n",
    "        counter[ind1][ind2] += 1"
   ]
  },
  {
   "cell_type": "code",
   "execution_count": 86,
   "id": "2da1aa4a-bd2e-44b2-a26f-3ff04d8d10cf",
   "metadata": {},
   "outputs": [],
   "source": [
    "P = counter\n",
    "P = P / P.sum(dim=1, keepdim=True)"
   ]
  },
  {
   "cell_type": "code",
   "execution_count": 92,
   "id": "26e80f23-fc9e-4cfe-80a4-3a88cefa3191",
   "metadata": {},
   "outputs": [
    {
     "name": "stdout",
     "output_type": "stream",
     "text": [
      "Word: danaditanevayahyia, NLL: 43.5670\n",
      "Word: vry, NLL: 8.3640\n",
      "Word: zyannbronyanerayricarderioughdenilyxf, NLL: 102.1019\n",
      "Word: yrian, NLL: 9.7525\n",
      "Word: massti, NLL: 13.8909\n",
      "Word: meennnalllel, NLL: 26.2887\n",
      "Word: et, NLL: 6.0065\n",
      "Word: kaynyare, NLL: 16.7308\n",
      "Word: d, NLL: 2.3657\n",
      "Word: zman, NLL: 7.9953\n"
     ]
    },
    {
     "data": {
      "text/plain": [
       "['danaditanevayahyia',\n",
       " 'vry',\n",
       " 'zyannbronyanerayricarderioughdenilyxf',\n",
       " 'yrian',\n",
       " 'massti',\n",
       " 'meennnalllel',\n",
       " 'et',\n",
       " 'kaynyare',\n",
       " 'd',\n",
       " 'zman']"
      ]
     },
     "execution_count": 92,
     "metadata": {},
     "output_type": "execute_result"
    }
   ],
   "source": [
    "g = torch.Generator().manual_seed(1)\n",
    "\n",
    "new_names = []\n",
    "for name_ind in range(10):\n",
    "    log_likelihood = 0.0\n",
    "    p = torch.rand((1, 26))\n",
    "    start_ix = torch.multinomial(p, num_samples=1, generator=g).item()\n",
    "    start_cix = ind_to_c[start_ix]\n",
    "    curr_word = [start_cix]\n",
    "    while True:\n",
    "        p = P[c_to_ind[curr_word[-1]], :]\n",
    "        ix = torch.multinomial(p, num_samples=1, generator=g).item()\n",
    "        cix = ind_to_c[ix]\n",
    "        logprob = torch.log(P[c_to_ind[curr_word[-1]], ix])\n",
    "        log_likelihood += logprob\n",
    "        if cix == '.':\n",
    "            break\n",
    "        curr_word.append(cix)\n",
    "    new_names.append(\"\".join(curr_word))\n",
    "    nll = -log_likelihood\n",
    "    print(f\"Word: {new_names[-1]}, NLL: {nll:.4f}\")\n",
    "    \n",
    "\n",
    "new_names"
   ]
  },
  {
   "cell_type": "code",
   "execution_count": null,
   "id": "517afc19-1f7c-405e-ace8-03d5498aa247",
   "metadata": {},
   "outputs": [],
   "source": []
  },
  {
   "cell_type": "code",
   "execution_count": null,
   "id": "68d33a9d-a0e1-49d6-9dfe-730c45d4a627",
   "metadata": {},
   "outputs": [],
   "source": []
  }
 ],
 "metadata": {
  "kernelspec": {
   "display_name": "Python 3 (ipykernel)",
   "language": "python",
   "name": "python3"
  },
  "language_info": {
   "codemirror_mode": {
    "name": "ipython",
    "version": 3
   },
   "file_extension": ".py",
   "mimetype": "text/x-python",
   "name": "python",
   "nbconvert_exporter": "python",
   "pygments_lexer": "ipython3",
   "version": "3.10.15"
  }
 },
 "nbformat": 4,
 "nbformat_minor": 5
}
