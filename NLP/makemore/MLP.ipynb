{
 "cells": [
  {
   "cell_type": "code",
   "execution_count": 1,
   "id": "52b1725e-2d1d-4569-8f92-c2cc356d1f98",
   "metadata": {},
   "outputs": [],
   "source": [
    "import torch\n",
    "import torch.nn.functional as F"
   ]
  },
  {
   "cell_type": "code",
   "execution_count": 2,
   "id": "37fbf916-9d7b-455a-8d4e-4e9a5ac2d9be",
   "metadata": {},
   "outputs": [],
   "source": [
    "names = open('./data/names.txt', 'r').read().split()"
   ]
  },
  {
   "cell_type": "code",
   "execution_count": 3,
   "id": "612d10cb-4e17-4f1f-9dd2-fa362df23737",
   "metadata": {},
   "outputs": [],
   "source": [
    "chars = sorted(list(set(\"\".join(names))))\n",
    "chars =  chars + [\".\"]\n",
    "\n",
    "c_to_ind = {c: i for i, c in enumerate(chars)}\n",
    "ind_to_c = {i: c for i, c in enumerate(chars)}"
   ]
  },
  {
   "cell_type": "code",
   "execution_count": 46,
   "id": "ef64b518-1ee1-48b7-ae9a-79b55874fdaf",
   "metadata": {},
   "outputs": [],
   "source": [
    "import random\n",
    "random.seed(42)\n",
    "\n",
    "random.shuffle(names)\n",
    "\n",
    "block_size = 3\n",
    "\n",
    "xs, ys = [], []\n",
    "\n",
    "for w in names:\n",
    "    fnames = list(w) + [\".\"]\n",
    "    context = [c_to_ind['.']] * block_size\n",
    "    for ch in fnames:\n",
    "        ix = c_to_ind[ch]\n",
    "        xs.append(context)\n",
    "        ys.append(ix)\n",
    "\n",
    "        # print(f\"{''.join(ind_to_c[x] for x in context)} --> {ind_to_c[ix]}\")\n",
    "\n",
    "        context = context[1:] + [ix]\n",
    "\n",
    "xs = torch.tensor(xs)\n",
    "ys = torch.tensor(ys)"
   ]
  },
  {
   "cell_type": "code",
   "execution_count": 49,
   "id": "29d69956-c693-45bb-8159-52f76b9e3aa8",
   "metadata": {},
   "outputs": [],
   "source": [
    "n1 = int(len(xs) * 0.8)\n",
    "n2 = int(len(xs) * 0.9)\n",
    "\n",
    "train_xs, train_ys = xs[:n1], ys[:n1]\n",
    "val_xs, val_ys = xs[n1:n2], ys[n1:n2]\n",
    "test_xs, test_ys = xs[n2:], ys[n2:]"
   ]
  },
  {
   "cell_type": "code",
   "execution_count": 51,
   "id": "b9136d19-d473-45cc-bf78-c96a403a55a6",
   "metadata": {},
   "outputs": [
    {
     "data": {
      "text/plain": [
       "(torch.Size([182516, 3]),\n",
       " torch.Size([182516]),\n",
       " torch.Size([22815, 3]),\n",
       " torch.Size([22815]),\n",
       " torch.Size([22815, 3]),\n",
       " torch.Size([22815]))"
      ]
     },
     "execution_count": 51,
     "metadata": {},
     "output_type": "execute_result"
    }
   ],
   "source": [
    "train_xs.shape, train_ys.shape, val_xs.shape, val_ys.shape, test_xs.shape, test_ys.shape"
   ]
  },
  {
   "cell_type": "code",
   "execution_count": 59,
   "id": "38f12c33-e9ec-4ae3-89bc-291c00d79e7b",
   "metadata": {},
   "outputs": [
    {
     "name": "stdout",
     "output_type": "stream",
     "text": [
      "Total num of params: 3481\n"
     ]
    }
   ],
   "source": [
    "g = torch.Generator().manual_seed(42)\n",
    "C = torch.randn((27, 2), generator=g, requires_grad=True)\n",
    "W1 = torch.randn((6, 100), generator=g, requires_grad=True)\n",
    "b1 = torch.randn((100), generator=g, requires_grad=True)\n",
    "W2 = torch.randn((100, 27), generator=g, requires_grad=True)\n",
    "b2 = torch.randn((27), generator=g, requires_grad=True)\n",
    "\n",
    "params = [C, W1, b1, W2, b2]\n",
    "\n",
    "total_p = 0\n",
    "for p in params:\n",
    "    total_p += p.nelement()\n",
    "print(f\"Total num of params: {total_p}\")"
   ]
  },
  {
   "cell_type": "code",
   "execution_count": 60,
   "id": "4a3f48b0-e762-4faf-b33e-c98bdc81cca6",
   "metadata": {},
   "outputs": [],
   "source": [
    "criterion = torch.nn.CrossEntropyLoss()"
   ]
  },
  {
   "cell_type": "code",
   "execution_count": 61,
   "id": "5e837d50-6c4a-41a9-a217-5d17084a1c70",
   "metadata": {},
   "outputs": [
    {
     "name": "stdout",
     "output_type": "stream",
     "text": [
      "tensor(2.4373, grad_fn=<NllLossBackward0>)\n"
     ]
    }
   ],
   "source": [
    "for epoch in range(40000):\n",
    "    ix = torch.randint(0, train_xs.shape[0], (32,))\n",
    "    emb = C[train_xs[ix]]\n",
    "    emb = emb.view(-1, 6)\n",
    "\n",
    "    x = torch.mm(emb, W1) + b1\n",
    "    logits = torch.mm(x, W2) + b2\n",
    "    # print(emb.shape, x.shape)\n",
    "    \n",
    "    loss = criterion(logits, train_ys[ix])\n",
    "\n",
    "    # print(f\"Epoch {epoch:2d}: {loss}\")\n",
    "\n",
    "    for p in params:\n",
    "        p.grad = None\n",
    "    loss.backward()\n",
    "\n",
    "    for p in params:\n",
    "        p.data += -0.1 * p.grad\n",
    "\n",
    "print(loss)"
   ]
  },
  {
   "cell_type": "code",
   "execution_count": 62,
   "id": "229b282b-2849-4b5a-a458-413ab24bb918",
   "metadata": {},
   "outputs": [
    {
     "data": {
      "text/plain": [
       "tensor(2.5258, grad_fn=<NllLossBackward0>)"
      ]
     },
     "execution_count": 62,
     "metadata": {},
     "output_type": "execute_result"
    }
   ],
   "source": [
    "emb = C[test_xs]\n",
    "emb = emb.view(-1, 6)\n",
    "\n",
    "x = torch.mm(emb, W1) + b1\n",
    "logits = torch.mm(x, W2) + b2\n",
    "# print(emb.shape, x.shape)\n",
    "\n",
    "loss = criterion(logits, test_ys)\n",
    "loss"
   ]
  },
  {
   "cell_type": "code",
   "execution_count": null,
   "id": "fe3e1574-7e7c-494f-b37d-401e6a60a4c6",
   "metadata": {},
   "outputs": [],
   "source": []
  }
 ],
 "metadata": {
  "kernelspec": {
   "display_name": "Python 3 (ipykernel)",
   "language": "python",
   "name": "python3"
  },
  "language_info": {
   "codemirror_mode": {
    "name": "ipython",
    "version": 3
   },
   "file_extension": ".py",
   "mimetype": "text/x-python",
   "name": "python",
   "nbconvert_exporter": "python",
   "pygments_lexer": "ipython3",
   "version": "3.10.15"
  }
 },
 "nbformat": 4,
 "nbformat_minor": 5
}
