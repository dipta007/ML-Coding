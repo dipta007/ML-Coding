{
 "cells": [
  {
   "cell_type": "code",
   "execution_count": 1,
   "metadata": {},
   "outputs": [],
   "source": [
    "import numpy as np\n",
    "\n",
    "def compute_tf_idf(corpus, query):\n",
    "\t\"\"\"\n",
    "\tCompute TF-IDF scores for a query against a corpus of documents.\n",
    "    \n",
    "\t:param corpus: List of documents, where each document is a list of words\n",
    "\t:param query: List of words in the query\n",
    "\t:return: List of lists containing TF-IDF scores for the query words in each document\n",
    "\t\"\"\"\n",
    "\tdef get_tf(query, doc):\n",
    "\t\treturn doc.count(query) / len(doc)\n",
    "\t\n",
    "\tdef get_idf(query, corpus):\n",
    "\t\tcnt = 0\n",
    "\t\tfor doc in corpus:\n",
    "\t\t\tcnt += int(query in doc)\n",
    "\t\treturn np.log((len(corpus)+1) / (cnt + 1)) + 1\n",
    "\t\n",
    "\tres = []\n",
    "\tfor doc in corpus:\n",
    "\t\tcurr = []\n",
    "\t\tfor q in query:\n",
    "\t\t\ttf_idf = get_tf(q, doc) * get_idf(q, corpus)\n",
    "\t\t\tcurr.append(round(tf_idf, 5))\n",
    "\t\tres.append(curr)\n",
    "\t\t\n",
    "\treturn res"
   ]
  },
  {
   "cell_type": "code",
   "execution_count": 2,
   "metadata": {},
   "outputs": [
    {
     "name": "stdout",
     "output_type": "stream",
     "text": [
      "[[np.float64(0.21461)], [np.float64(0.25754)], [np.float64(0.0)]]\n"
     ]
    }
   ],
   "source": [
    "corpus = [\n",
    "    [\"the\", \"cat\", \"sat\", \"on\", \"the\", \"mat\"],\n",
    "    [\"the\", \"dog\", \"chased\", \"the\", \"cat\"],\n",
    "    [\"the\", \"bird\", \"flew\", \"over\", \"the\", \"mat\"]\n",
    "]\n",
    "query = [\"cat\"]\n",
    "\n",
    "print(compute_tf_idf(corpus, query))"
   ]
  },
  {
   "cell_type": "code",
   "execution_count": null,
   "metadata": {},
   "outputs": [],
   "source": []
  }
 ],
 "metadata": {
  "kernelspec": {
   "display_name": "Python 3 (ipykernel)",
   "language": "python",
   "name": "python3"
  },
  "language_info": {
   "codemirror_mode": {
    "name": "ipython",
    "version": 3
   },
   "file_extension": ".py",
   "mimetype": "text/x-python",
   "name": "python",
   "nbconvert_exporter": "python",
   "pygments_lexer": "ipython3",
   "version": "3.10.15"
  }
 },
 "nbformat": 4,
 "nbformat_minor": 4
}
