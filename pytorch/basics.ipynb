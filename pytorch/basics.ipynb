{
 "cells": [
  {
   "cell_type": "code",
   "execution_count": 1,
   "id": "0a25efb9-5130-4da9-9307-32293ddb0e23",
   "metadata": {},
   "outputs": [],
   "source": [
    "import torch\n",
    "import numpy as np"
   ]
  },
  {
   "cell_type": "code",
   "execution_count": 2,
   "id": "446eef66-a9a9-4072-8ba5-6ac5dbdd20d3",
   "metadata": {},
   "outputs": [],
   "source": [
    "device = 'cuda' if torch.cuda.is_available() else 'cpu'\n",
    "device = 'mps' if torch.backends.mps.is_available() else device"
   ]
  },
  {
   "cell_type": "markdown",
   "id": "6731b70e-7dd5-4806-808d-f8dbaa22ac78",
   "metadata": {},
   "source": [
    "## Tensors"
   ]
  },
  {
   "cell_type": "code",
   "execution_count": 3,
   "id": "f0f201f8-d7f1-453e-802e-34cc0011ee98",
   "metadata": {},
   "outputs": [
    {
     "data": {
      "text/plain": [
       "tensor([[1., 2., 3.],\n",
       "        [4., 5., 6.]], device='mps:0')"
      ]
     },
     "execution_count": 3,
     "metadata": {},
     "output_type": "execute_result"
    }
   ],
   "source": [
    "my_tensor = torch.tensor([\n",
    "    [1, 2, 3],\n",
    "    [4, 5, 6],\n",
    "], dtype=torch.float32, device=device)\n",
    "my_tensor"
   ]
  },
  {
   "cell_type": "code",
   "execution_count": 4,
   "id": "c75ab483-d493-47da-9fa0-d1ab95bc42a3",
   "metadata": {},
   "outputs": [
    {
     "data": {
      "text/plain": [
       "tensor([[1., 2., 3.],\n",
       "        [4., 5., 6.]], device='mps:0')"
      ]
     },
     "execution_count": 4,
     "metadata": {},
     "output_type": "execute_result"
    }
   ],
   "source": [
    "my_tensor"
   ]
  },
  {
   "cell_type": "code",
   "execution_count": 5,
   "id": "9315f3c7-c863-495d-8825-47894fe1770f",
   "metadata": {},
   "outputs": [
    {
     "data": {
      "text/plain": [
       "torch.float32"
      ]
     },
     "execution_count": 5,
     "metadata": {},
     "output_type": "execute_result"
    }
   ],
   "source": [
    "my_tensor.dtype"
   ]
  },
  {
   "cell_type": "code",
   "execution_count": 6,
   "id": "351650e9-c5f3-49d5-8eb8-cdca5ad5b009",
   "metadata": {},
   "outputs": [
    {
     "data": {
      "text/plain": [
       "device(type='mps', index=0)"
      ]
     },
     "execution_count": 6,
     "metadata": {},
     "output_type": "execute_result"
    }
   ],
   "source": [
    "my_tensor.device"
   ]
  },
  {
   "cell_type": "code",
   "execution_count": 7,
   "id": "704bf640-74e1-471f-a814-b658697b7ee2",
   "metadata": {},
   "outputs": [
    {
     "data": {
      "text/plain": [
       "torch.Size([2, 3])"
      ]
     },
     "execution_count": 7,
     "metadata": {},
     "output_type": "execute_result"
    }
   ],
   "source": [
    "my_tensor.shape"
   ]
  },
  {
   "cell_type": "code",
   "execution_count": 8,
   "id": "994facad-86ce-4ede-98aa-1d55b2118840",
   "metadata": {},
   "outputs": [
    {
     "data": {
      "text/plain": [
       "torch.Size([2, 3])"
      ]
     },
     "execution_count": 8,
     "metadata": {},
     "output_type": "execute_result"
    }
   ],
   "source": [
    "my_tensor.size()"
   ]
  },
  {
   "cell_type": "code",
   "execution_count": 9,
   "id": "09f64db0-6d50-490d-80a3-2ca9b7c27de6",
   "metadata": {},
   "outputs": [
    {
     "data": {
      "text/plain": [
       "False"
      ]
     },
     "execution_count": 9,
     "metadata": {},
     "output_type": "execute_result"
    }
   ],
   "source": [
    "my_tensor.requires_grad"
   ]
  },
  {
   "cell_type": "code",
   "execution_count": 10,
   "id": "ba12239e-a8d3-4cfd-b1da-730918cbf08d",
   "metadata": {},
   "outputs": [
    {
     "data": {
      "text/plain": [
       "tensor([[0., 0.],\n",
       "        [0., 0.],\n",
       "        [0., 0.]])"
      ]
     },
     "execution_count": 10,
     "metadata": {},
     "output_type": "execute_result"
    }
   ],
   "source": [
    "x = torch.empty(3, 2) # uninitialized data, its random though it shows its all 0\n",
    "x"
   ]
  },
  {
   "cell_type": "code",
   "execution_count": 11,
   "id": "fe8ce33c-a0a7-4c8d-b075-64f513591331",
   "metadata": {},
   "outputs": [
    {
     "data": {
      "text/plain": [
       "tensor([[0., 0.],\n",
       "        [0., 0.],\n",
       "        [0., 0.]])"
      ]
     },
     "execution_count": 11,
     "metadata": {},
     "output_type": "execute_result"
    }
   ],
   "source": [
    "torch.zeros(3, 2)"
   ]
  },
  {
   "cell_type": "code",
   "execution_count": 12,
   "id": "519dd9f1-e5ba-4b07-a5b1-e010033f0d17",
   "metadata": {},
   "outputs": [
    {
     "data": {
      "text/plain": [
       "tensor([[1., 1.],\n",
       "        [1., 1.],\n",
       "        [1., 1.]])"
      ]
     },
     "execution_count": 12,
     "metadata": {},
     "output_type": "execute_result"
    }
   ],
   "source": [
    "torch.ones(3, 2)"
   ]
  },
  {
   "cell_type": "code",
   "execution_count": 13,
   "id": "b02a7a04-25c8-43b9-821d-328aa5424dc2",
   "metadata": {},
   "outputs": [
    {
     "data": {
      "text/plain": [
       "tensor([[1., 0., 0.],\n",
       "        [0., 1., 0.],\n",
       "        [0., 0., 1.]])"
      ]
     },
     "execution_count": 13,
     "metadata": {},
     "output_type": "execute_result"
    }
   ],
   "source": [
    "torch.eye(3)"
   ]
  },
  {
   "cell_type": "code",
   "execution_count": 14,
   "id": "b639e7ca-435d-499d-be1d-2cb7fd1a293b",
   "metadata": {},
   "outputs": [
    {
     "data": {
      "text/plain": [
       "tensor([[1., 0.],\n",
       "        [0., 1.],\n",
       "        [0., 0.]])"
      ]
     },
     "execution_count": 14,
     "metadata": {},
     "output_type": "execute_result"
    }
   ],
   "source": [
    "torch.eye(3, 2)"
   ]
  },
  {
   "cell_type": "code",
   "execution_count": 15,
   "id": "193e5336-34d3-4ecf-a43d-4cd81c9af027",
   "metadata": {},
   "outputs": [
    {
     "data": {
      "text/plain": [
       "tensor([[0.5018, 0.8162],\n",
       "        [0.1560, 0.4704],\n",
       "        [0.9378, 0.9110]])"
      ]
     },
     "execution_count": 15,
     "metadata": {},
     "output_type": "execute_result"
    }
   ],
   "source": [
    "torch.rand(3, 2) # from uniform distribution"
   ]
  },
  {
   "cell_type": "code",
   "execution_count": 16,
   "id": "782af2db-23be-48fb-944a-dddb4dfb3bdb",
   "metadata": {},
   "outputs": [
    {
     "data": {
      "text/plain": [
       "tensor([[ 1.6672, -0.6776,  0.9776],\n",
       "        [-0.4192, -2.0178, -0.3492],\n",
       "        [ 1.8158,  0.5066, -0.4667]])"
      ]
     },
     "execution_count": 16,
     "metadata": {},
     "output_type": "execute_result"
    }
   ],
   "source": [
    "torch.randn(3, 3) # from normal distribution"
   ]
  },
  {
   "cell_type": "code",
   "execution_count": 17,
   "id": "f98cc2ab-be6c-4168-a74b-d4731636a4b1",
   "metadata": {},
   "outputs": [
    {
     "data": {
      "text/plain": [
       "tensor([0, 1, 2])"
      ]
     },
     "execution_count": 17,
     "metadata": {},
     "output_type": "execute_result"
    }
   ],
   "source": [
    "torch.arange(3)"
   ]
  },
  {
   "cell_type": "code",
   "execution_count": 18,
   "id": "341e7572-b124-4597-8ecb-ff1f8e922f78",
   "metadata": {},
   "outputs": [
    {
     "data": {
      "text/plain": [
       "tensor([1, 2, 3])"
      ]
     },
     "execution_count": 18,
     "metadata": {},
     "output_type": "execute_result"
    }
   ],
   "source": [
    "torch.arange(start=1, end=4, step=1)"
   ]
  },
  {
   "cell_type": "code",
   "execution_count": 19,
   "id": "51244cf4-8d10-47cd-823f-85da954eb749",
   "metadata": {},
   "outputs": [
    {
     "name": "stdout",
     "output_type": "stream",
     "text": [
      "tensor([1.0000, 1.4444, 1.8889, 2.3333, 2.7778, 3.2222, 3.6667, 4.1111, 4.5556,\n",
      "        5.0000])\n",
      "torch.Size([10])\n"
     ]
    }
   ],
   "source": [
    "x = torch.linspace(start=1, end=5, steps=10)\n",
    "print(x)\n",
    "print(x.shape)"
   ]
  },
  {
   "cell_type": "code",
   "execution_count": 20,
   "id": "5fcfe66b-db65-49e1-b3f3-3fc750136c26",
   "metadata": {},
   "outputs": [
    {
     "data": {
      "text/plain": [
       "tensor([[-0.8152, -0.3389],\n",
       "        [-2.1069,  0.4954],\n",
       "        [ 0.6610, -1.7125]])"
      ]
     },
     "execution_count": 20,
     "metadata": {},
     "output_type": "execute_result"
    }
   ],
   "source": [
    "torch.normal(mean=0, std=1, size=(3, 2))"
   ]
  },
  {
   "cell_type": "code",
   "execution_count": 21,
   "id": "f08ef152-a8b9-4d35-92ab-3dfcafce2ab1",
   "metadata": {},
   "outputs": [
    {
     "name": "stdout",
     "output_type": "stream",
     "text": [
      "tensor([[0.3859, 0.5898],\n",
      "        [0.4029, 0.3985],\n",
      "        [0.8085, 0.4960]])\n"
     ]
    },
    {
     "data": {
      "text/plain": [
       "(tensor([0.4029, 0.4960]), tensor([0.3859, 0.3985]), tensor([0.5898]))"
      ]
     },
     "execution_count": 21,
     "metadata": {},
     "output_type": "execute_result"
    }
   ],
   "source": [
    "x = torch.rand(3, 2)\n",
    "print(x)\n",
    "torch.diag(x, diagonal=-1), torch.diag(x, diagonal=0), torch.diag(x, diagonal=1)"
   ]
  },
  {
   "cell_type": "code",
   "execution_count": 22,
   "id": "6ecffb82-f825-4e93-a613-98586d532837",
   "metadata": {},
   "outputs": [
    {
     "name": "stdout",
     "output_type": "stream",
     "text": [
      "tensor([False,  True,  True,  True])\n",
      "tensor([0, 1, 2, 3], dtype=torch.int16)\n",
      "tensor([0, 1, 2, 3])\n",
      "tensor([0., 1., 2., 3.], dtype=torch.float16)\n",
      "tensor([0., 1., 2., 3.])\n",
      "tensor([0., 1., 2., 3.], dtype=torch.float64)\n",
      "tensor([0, 1, 2, 3], dtype=torch.int32)\n"
     ]
    }
   ],
   "source": [
    "x = torch.arange(4)\n",
    "\n",
    "print(x.bool()) # boolean\n",
    "print(x.short()) # int16\n",
    "print(x.long()) # int64\n",
    "print(x.half()) # float16\n",
    "print(x.float()) #float32\n",
    "print(x.double()) #float64\n",
    "print(x.int()) # int32"
   ]
  },
  {
   "cell_type": "code",
   "execution_count": 23,
   "id": "6ce25ba1-1a9c-44c3-842e-cd763ce2df57",
   "metadata": {},
   "outputs": [
    {
     "data": {
      "text/plain": [
       "(array([[0., 0., 0., 0., 0.],\n",
       "        [0., 0., 0., 0., 0.],\n",
       "        [0., 0., 0., 0., 0.],\n",
       "        [0., 0., 0., 0., 0.],\n",
       "        [0., 0., 0., 0., 0.]]),\n",
       " tensor([[0., 0., 0., 0., 0.],\n",
       "         [0., 0., 0., 0., 0.],\n",
       "         [0., 0., 0., 0., 0.],\n",
       "         [0., 0., 0., 0., 0.],\n",
       "         [0., 0., 0., 0., 0.]], dtype=torch.float64),\n",
       " array([[0., 0., 0., 0., 0.],\n",
       "        [0., 0., 0., 0., 0.],\n",
       "        [0., 0., 0., 0., 0.],\n",
       "        [0., 0., 0., 0., 0.],\n",
       "        [0., 0., 0., 0., 0.]]))"
      ]
     },
     "execution_count": 23,
     "metadata": {},
     "output_type": "execute_result"
    }
   ],
   "source": [
    "np_array = np.zeros((5, 5))\n",
    "tensor = torch.from_numpy(np_array)\n",
    "np_back = tensor.numpy()\n",
    "\n",
    "np_array, tensor, np_back"
   ]
  },
  {
   "cell_type": "markdown",
   "id": "1bfa11e3-b6a8-42ac-acef-dc08b95ed64a",
   "metadata": {},
   "source": [
    "## Math"
   ]
  },
  {
   "cell_type": "code",
   "execution_count": 24,
   "id": "414f224d-5adb-499f-ab92-2636f3b40e3c",
   "metadata": {},
   "outputs": [],
   "source": [
    "x = torch.tensor([1, 2, 3])\n",
    "y = torch.tensor([4, 5, 6])"
   ]
  },
  {
   "cell_type": "code",
   "execution_count": 25,
   "id": "a86a3785-d431-4a84-826d-336ad0d28fb0",
   "metadata": {},
   "outputs": [
    {
     "data": {
      "text/plain": [
       "tensor([5, 7, 9])"
      ]
     },
     "execution_count": 25,
     "metadata": {},
     "output_type": "execute_result"
    }
   ],
   "source": [
    "x + y"
   ]
  },
  {
   "cell_type": "code",
   "execution_count": 26,
   "id": "3d282d51-2b35-4241-a98e-9aaf7288b2c0",
   "metadata": {},
   "outputs": [
    {
     "data": {
      "text/plain": [
       "tensor([-3, -3, -3])"
      ]
     },
     "execution_count": 26,
     "metadata": {},
     "output_type": "execute_result"
    }
   ],
   "source": [
    "x - y"
   ]
  },
  {
   "cell_type": "code",
   "execution_count": 27,
   "id": "fe606ca7-1bec-4236-b0fc-7b0f004e871f",
   "metadata": {},
   "outputs": [
    {
     "data": {
      "text/plain": [
       "tensor([0.2500, 0.4000, 0.5000])"
      ]
     },
     "execution_count": 27,
     "metadata": {},
     "output_type": "execute_result"
    }
   ],
   "source": [
    "torch.true_divide(x, y)"
   ]
  },
  {
   "cell_type": "code",
   "execution_count": 28,
   "id": "68335ab4-f150-44d5-b90d-88877b7cfa52",
   "metadata": {},
   "outputs": [
    {
     "data": {
      "text/plain": [
       "tensor([0.5000, 1.0000, 1.5000])"
      ]
     },
     "execution_count": 28,
     "metadata": {},
     "output_type": "execute_result"
    }
   ],
   "source": [
    "torch.true_divide(x, 2)"
   ]
  },
  {
   "cell_type": "code",
   "execution_count": 29,
   "id": "9c4e24d2-8d3b-4974-97cb-a8c6af23dc77",
   "metadata": {},
   "outputs": [
    {
     "data": {
      "text/plain": [
       "tensor([1, 4, 9])"
      ]
     },
     "execution_count": 29,
     "metadata": {},
     "output_type": "execute_result"
    }
   ],
   "source": [
    "x.pow(2)"
   ]
  },
  {
   "cell_type": "code",
   "execution_count": 30,
   "id": "dee4a067-acbd-4c97-9c4b-7d368f866b96",
   "metadata": {},
   "outputs": [
    {
     "data": {
      "text/plain": [
       "tensor([ 1,  8, 27])"
      ]
     },
     "execution_count": 30,
     "metadata": {},
     "output_type": "execute_result"
    }
   ],
   "source": [
    "x.pow(3)"
   ]
  },
  {
   "cell_type": "code",
   "execution_count": 31,
   "id": "261802a2-2bf2-43b7-ba95-7e14c811f1ea",
   "metadata": {},
   "outputs": [
    {
     "data": {
      "text/plain": [
       "tensor([1, 4, 9])"
      ]
     },
     "execution_count": 31,
     "metadata": {},
     "output_type": "execute_result"
    }
   ],
   "source": [
    "x ** 2"
   ]
  },
  {
   "cell_type": "code",
   "execution_count": 32,
   "id": "e463b7cb-fd35-41af-9fc0-37edb03231d9",
   "metadata": {},
   "outputs": [],
   "source": [
    "x = torch.rand(2, 5)"
   ]
  },
  {
   "cell_type": "code",
   "execution_count": 33,
   "id": "21d5141d-da7d-4484-976c-b0df5d9050d5",
   "metadata": {},
   "outputs": [
    {
     "data": {
      "text/plain": [
       "tensor([1.1656, 1.5266, 0.4362, 1.0305, 0.7996])"
      ]
     },
     "execution_count": 33,
     "metadata": {},
     "output_type": "execute_result"
    }
   ],
   "source": [
    "torch.sum(x, dim=0)"
   ]
  },
  {
   "cell_type": "code",
   "execution_count": 34,
   "id": "ece23bcc-3c73-4512-85d5-92be657158e2",
   "metadata": {},
   "outputs": [
    {
     "data": {
      "text/plain": [
       "torch.return_types.max(\n",
       "values=tensor([0.9684, 0.9986, 0.2398, 0.8068, 0.6289]),\n",
       "indices=tensor([1, 1, 1, 1, 0]))"
      ]
     },
     "execution_count": 34,
     "metadata": {},
     "output_type": "execute_result"
    }
   ],
   "source": [
    "torch.max(x, dim=0)"
   ]
  },
  {
   "cell_type": "code",
   "execution_count": 35,
   "id": "56b3e81e-210b-4714-be72-cd8ee10c139b",
   "metadata": {},
   "outputs": [
    {
     "data": {
      "text/plain": [
       "tensor([[0.1972, 0.5280, 0.1964, 0.2238, 0.6289],\n",
       "        [0.9684, 0.9986, 0.2398, 0.8068, 0.1707]])"
      ]
     },
     "execution_count": 35,
     "metadata": {},
     "output_type": "execute_result"
    }
   ],
   "source": [
    "torch.abs(x)"
   ]
  },
  {
   "cell_type": "code",
   "execution_count": 36,
   "id": "910a15e7-956b-4fa6-89a1-7151e7e3dc89",
   "metadata": {},
   "outputs": [
    {
     "data": {
      "text/plain": [
       "tensor([1, 1, 1, 1, 0])"
      ]
     },
     "execution_count": 36,
     "metadata": {},
     "output_type": "execute_result"
    }
   ],
   "source": [
    "torch.argmax(x, dim=0)"
   ]
  },
  {
   "cell_type": "code",
   "execution_count": 37,
   "id": "12aa99ff-b131-4e82-85ef-25eefbca769c",
   "metadata": {},
   "outputs": [
    {
     "data": {
      "text/plain": [
       "tensor([0.3548, 0.6369])"
      ]
     },
     "execution_count": 37,
     "metadata": {},
     "output_type": "execute_result"
    }
   ],
   "source": [
    "torch.mean(x, dim=1)"
   ]
  },
  {
   "cell_type": "code",
   "execution_count": 38,
   "id": "df57a417-c55a-4bbd-aff2-136fecd3965c",
   "metadata": {},
   "outputs": [
    {
     "data": {
      "text/plain": [
       "tensor([[False, False, False, False, False],\n",
       "        [ True,  True,  True,  True,  True]])"
      ]
     },
     "execution_count": 38,
     "metadata": {},
     "output_type": "execute_result"
    }
   ],
   "source": [
    "x = torch.rand(2, 5)\n",
    "y = x.clone()\n",
    "y[0, :] = torch.randn(1, y.shape[1])\n",
    "\n",
    "torch.eq(x, y)"
   ]
  },
  {
   "cell_type": "code",
   "execution_count": 39,
   "id": "e596b658-6836-48e1-8056-4682de734a6d",
   "metadata": {},
   "outputs": [
    {
     "data": {
      "text/plain": [
       "torch.return_types.sort(\n",
       "values=tensor([[0.0227, 0.1665, 0.0715, 0.0173, 0.1374],\n",
       "        [0.0313, 0.4681, 0.2732, 0.9088, 0.3715]]),\n",
       "indices=tensor([[1, 0, 1, 0, 0],\n",
       "        [0, 1, 0, 1, 1]]))"
      ]
     },
     "execution_count": 39,
     "metadata": {},
     "output_type": "execute_result"
    }
   ],
   "source": [
    "x.sort(dim=0)"
   ]
  },
  {
   "cell_type": "code",
   "execution_count": 40,
   "id": "a2f1c98e-11cb-460b-a202-0b7d1b1ac58b",
   "metadata": {},
   "outputs": [
    {
     "name": "stdout",
     "output_type": "stream",
     "text": [
      "tensor([[0.8738, 0.7116, 0.6955, 0.7841, 0.8803],\n",
      "        [0.7921, 0.2547, 0.1517, 0.5442, 0.9595]])\n"
     ]
    },
    {
     "data": {
      "text/plain": [
       "tensor([[0.2000, 0.2000, 0.2000, 0.2000, 0.2000],\n",
       "        [0.2000, 0.2000, 0.1517, 0.2000, 0.2000]])"
      ]
     },
     "execution_count": 40,
     "metadata": {},
     "output_type": "execute_result"
    }
   ],
   "source": [
    "x = torch.rand(2, 5)\n",
    "print(x)\n",
    "\n",
    "torch.clamp(x, max=0.2)"
   ]
  },
  {
   "cell_type": "markdown",
   "id": "d52b0b15-83d0-4f34-abce-bc66e2e4d621",
   "metadata": {},
   "source": [
    "## Comparison"
   ]
  },
  {
   "cell_type": "code",
   "execution_count": 41,
   "id": "a6ee74b3-ded5-4b42-9135-ddfad1daab81",
   "metadata": {},
   "outputs": [
    {
     "data": {
      "text/plain": [
       "tensor([[0.3282, 0.0819],\n",
       "        [0.2920, 0.6874],\n",
       "        [0.7303, 0.1495]])"
      ]
     },
     "execution_count": 41,
     "metadata": {},
     "output_type": "execute_result"
    }
   ],
   "source": [
    "x = torch.rand(3, 2)\n",
    "x"
   ]
  },
  {
   "cell_type": "code",
   "execution_count": 42,
   "id": "4788db10-feed-43c8-b216-691757c06e64",
   "metadata": {},
   "outputs": [
    {
     "data": {
      "text/plain": [
       "tensor([[True, True],\n",
       "        [True, True],\n",
       "        [True, True]])"
      ]
     },
     "execution_count": 42,
     "metadata": {},
     "output_type": "execute_result"
    }
   ],
   "source": [
    "x > 0"
   ]
  },
  {
   "cell_type": "code",
   "execution_count": 43,
   "id": "0c1312c0-a6d1-4873-9f76-63809505d8d4",
   "metadata": {},
   "outputs": [
    {
     "data": {
      "text/plain": [
       "tensor([[False, False],\n",
       "        [False, False],\n",
       "        [False, False]])"
      ]
     },
     "execution_count": 43,
     "metadata": {},
     "output_type": "execute_result"
    }
   ],
   "source": [
    "x < 0"
   ]
  },
  {
   "cell_type": "code",
   "execution_count": 44,
   "id": "e5a693f8-99b5-43ff-8d3e-f9bc8cfff5d7",
   "metadata": {},
   "outputs": [
    {
     "data": {
      "text/plain": [
       "tensor(True)"
      ]
     },
     "execution_count": 44,
     "metadata": {},
     "output_type": "execute_result"
    }
   ],
   "source": [
    "torch.all(x > 0)"
   ]
  },
  {
   "cell_type": "code",
   "execution_count": 45,
   "id": "09a08a52-7476-4283-821c-a70a1c3fd7cb",
   "metadata": {},
   "outputs": [
    {
     "data": {
      "text/plain": [
       "tensor(False)"
      ]
     },
     "execution_count": 45,
     "metadata": {},
     "output_type": "execute_result"
    }
   ],
   "source": [
    "torch.any(x < 0)"
   ]
  },
  {
   "cell_type": "markdown",
   "id": "ca23198f-71d3-4e02-89be-2281f4dcea50",
   "metadata": {},
   "source": [
    "## Matrix Multiplication"
   ]
  },
  {
   "cell_type": "markdown",
   "id": "9eff7e78-fc20-4d24-9ffc-bdb6e00e34b8",
   "metadata": {},
   "source": [
    "#### Matrix Multiplication"
   ]
  },
  {
   "cell_type": "code",
   "execution_count": 46,
   "id": "8a31705a-4baf-4322-9559-0763468a69bf",
   "metadata": {},
   "outputs": [],
   "source": [
    "x = torch.rand((2, 5))\n",
    "y = torch.rand((5, 3))"
   ]
  },
  {
   "cell_type": "code",
   "execution_count": 47,
   "id": "bc0270d2-d9bd-4741-8ca6-1c4f5fdef965",
   "metadata": {},
   "outputs": [
    {
     "data": {
      "text/plain": [
       "(tensor([[2.1182, 1.2730, 2.6090],\n",
       "         [2.3659, 1.2005, 2.7661]]),\n",
       " torch.Size([2, 3]))"
      ]
     },
     "execution_count": 47,
     "metadata": {},
     "output_type": "execute_result"
    }
   ],
   "source": [
    "torch.mm(x, y), torch.mm(x, y).shape"
   ]
  },
  {
   "cell_type": "markdown",
   "id": "e7f7b915-befc-4030-99f0-26cd9c2a00cd",
   "metadata": {},
   "source": [
    "#### Elementwise Multiplication (Hadamard Product)"
   ]
  },
  {
   "cell_type": "code",
   "execution_count": 48,
   "id": "dbff17c1-2c6a-4c21-ae23-1ba545851d68",
   "metadata": {},
   "outputs": [
    {
     "data": {
      "text/plain": [
       "tensor([[3.2979e-01, 6.7048e-02, 3.4775e-02, 2.3284e-01, 3.3874e-01],\n",
       "        [3.6362e-04, 5.6128e-01, 3.5403e-01, 2.3577e-02, 4.7150e-02]])"
      ]
     },
     "execution_count": 48,
     "metadata": {},
     "output_type": "execute_result"
    }
   ],
   "source": [
    "x = torch.rand((2, 5))\n",
    "y = torch.rand((2, 5))\n",
    "\n",
    "x * y"
   ]
  },
  {
   "cell_type": "markdown",
   "id": "7669a62e-291b-4a83-aaca-8cf3e87cf5ad",
   "metadata": {},
   "source": [
    "#### Dot Product"
   ]
  },
  {
   "cell_type": "code",
   "execution_count": 49,
   "id": "918a85ad-9c92-48c1-98f4-c1e7b9210b09",
   "metadata": {},
   "outputs": [],
   "source": [
    "x = torch.rand(5)\n",
    "y = torch.rand(5)"
   ]
  },
  {
   "cell_type": "code",
   "execution_count": 50,
   "id": "3072a9f3-52ac-474b-b3fc-4b8ec27882a4",
   "metadata": {},
   "outputs": [
    {
     "data": {
      "text/plain": [
       "tensor(1.8219)"
      ]
     },
     "execution_count": 50,
     "metadata": {},
     "output_type": "execute_result"
    }
   ],
   "source": [
    "torch.dot(x, y)"
   ]
  },
  {
   "cell_type": "markdown",
   "id": "8f8d514d-4228-43ba-82c6-19c8fed1e175",
   "metadata": {},
   "source": [
    "#### Batch Matrix Multiplication"
   ]
  },
  {
   "cell_type": "code",
   "execution_count": 51,
   "id": "ebd22917-2269-4a95-94af-a827f17bdfbf",
   "metadata": {},
   "outputs": [],
   "source": [
    "batch, n, m, p = 32, 10, 20, 30\n",
    "\n",
    "x = torch.rand(batch, n, m)\n",
    "y = torch.rand(batch, m, p)"
   ]
  },
  {
   "cell_type": "code",
   "execution_count": 52,
   "id": "a1c45ed9-9441-4950-83a4-dba501e77dfb",
   "metadata": {},
   "outputs": [
    {
     "data": {
      "text/plain": [
       "torch.Size([32, 10, 30])"
      ]
     },
     "execution_count": 52,
     "metadata": {},
     "output_type": "execute_result"
    }
   ],
   "source": [
    "torch.bmm(x, y).shape"
   ]
  },
  {
   "cell_type": "markdown",
   "id": "7adf69f0-69a4-4905-b62c-f6d68b037c66",
   "metadata": {},
   "source": [
    "#### Matrix Power (x^4 = x * x * x * x)"
   ]
  },
  {
   "cell_type": "code",
   "execution_count": 53,
   "id": "97fb218b-580c-46ac-b07d-26709a1aa8dd",
   "metadata": {},
   "outputs": [],
   "source": [
    "x = torch.arange(16).view(4, 4)"
   ]
  },
  {
   "cell_type": "code",
   "execution_count": 54,
   "id": "37018243-5c18-41a9-8dd1-9a9ed8df7abb",
   "metadata": {},
   "outputs": [
    {
     "data": {
      "text/plain": [
       "(tensor([[  0,   1,   4,   9],\n",
       "         [ 16,  25,  36,  49],\n",
       "         [ 64,  81, 100, 121],\n",
       "         [144, 169, 196, 225]]),\n",
       " tensor([[ 56,  62,  68,  74],\n",
       "         [152, 174, 196, 218],\n",
       "         [248, 286, 324, 362],\n",
       "         [344, 398, 452, 506]]))"
      ]
     },
     "execution_count": 54,
     "metadata": {},
     "output_type": "execute_result"
    }
   ],
   "source": [
    "x ** 2, x.matrix_power(2)"
   ]
  },
  {
   "cell_type": "markdown",
   "id": "e74aa57f-5ad5-49b6-8d1e-2b6e8625303c",
   "metadata": {},
   "source": [
    "## Broadcasting"
   ]
  },
  {
   "cell_type": "code",
   "execution_count": 55,
   "id": "70bc35fe-1d06-4a97-91a7-085ed54f8b53",
   "metadata": {},
   "outputs": [
    {
     "data": {
      "text/plain": [
       "tensor([[ 0.0298, -0.4796, -0.5076,  0.0766, -0.3860],\n",
       "        [-0.1259,  0.4081, -0.5837, -0.3810,  0.0211],\n",
       "        [-0.0142, -0.0950,  0.1263, -0.2279, -0.3479],\n",
       "        [ 0.4243,  0.1345, -0.3476,  0.2281, -0.1399],\n",
       "        [-0.4354,  0.3311, -0.0382, -0.3135, -0.8000]])"
      ]
     },
     "execution_count": 55,
     "metadata": {},
     "output_type": "execute_result"
    }
   ],
   "source": [
    "x = torch.rand(5, 5)\n",
    "y = torch.rand(1, 5)\n",
    "\n",
    "x - y"
   ]
  },
  {
   "cell_type": "code",
   "execution_count": 56,
   "id": "421bf503-081f-49df-98d3-774d2a7a01aa",
   "metadata": {},
   "outputs": [
    {
     "data": {
      "text/plain": [
       "tensor([[ 0.1720, -0.2155, -0.1104,  0.3031,  0.1960],\n",
       "        [-0.5465,  0.1095, -0.7493, -0.7173,  0.0404],\n",
       "        [-0.0149,  0.0263,  0.3806, -0.1442,  0.0913],\n",
       "        [ 0.2387,  0.0708, -0.2782,  0.1267,  0.1143],\n",
       "        [-0.9317, -0.0432, -0.2796, -0.7255, -0.8565]])"
      ]
     },
     "execution_count": 56,
     "metadata": {},
     "output_type": "execute_result"
    }
   ],
   "source": [
    "y = torch.rand(5, 1)\n",
    "\n",
    "x - y"
   ]
  },
  {
   "cell_type": "markdown",
   "id": "0b4a899c-fee6-4df5-b570-ffb94d5381c7",
   "metadata": {},
   "source": [
    "## Indexing"
   ]
  },
  {
   "cell_type": "code",
   "execution_count": 57,
   "id": "90c6b240-29f9-45e7-84e1-7cd4ab43d836",
   "metadata": {},
   "outputs": [],
   "source": [
    "B, features = 10, 25"
   ]
  },
  {
   "cell_type": "code",
   "execution_count": 58,
   "id": "7c9d5f62-8a78-41c9-8992-ffe4cd8dac7b",
   "metadata": {},
   "outputs": [],
   "source": [
    "x = torch.rand(B, features)"
   ]
  },
  {
   "cell_type": "code",
   "execution_count": 59,
   "id": "74e8dfde-b8a5-421c-b986-14485dbdbc22",
   "metadata": {},
   "outputs": [
    {
     "data": {
      "text/plain": [
       "torch.Size([25])"
      ]
     },
     "execution_count": 59,
     "metadata": {},
     "output_type": "execute_result"
    }
   ],
   "source": [
    "x[0].shape"
   ]
  },
  {
   "cell_type": "code",
   "execution_count": 60,
   "id": "90824a3f-d6d7-4894-93a2-8751f0cf3118",
   "metadata": {},
   "outputs": [
    {
     "data": {
      "text/plain": [
       "torch.Size([10])"
      ]
     },
     "execution_count": 60,
     "metadata": {},
     "output_type": "execute_result"
    }
   ],
   "source": [
    "x[:, 0].shape"
   ]
  },
  {
   "cell_type": "code",
   "execution_count": 61,
   "id": "2e4300d6-bb24-47ba-bdfc-2fd1f0fe7ddd",
   "metadata": {},
   "outputs": [
    {
     "data": {
      "text/plain": [
       "torch.Size([2, 10])"
      ]
     },
     "execution_count": 61,
     "metadata": {},
     "output_type": "execute_result"
    }
   ],
   "source": [
    "x[1:3, 0:10].shape"
   ]
  },
  {
   "cell_type": "code",
   "execution_count": 62,
   "id": "05bf641c-e1d3-4251-bf64-b5b8cc35d01a",
   "metadata": {},
   "outputs": [],
   "source": [
    "x[0, 0] = 100"
   ]
  },
  {
   "cell_type": "code",
   "execution_count": 63,
   "id": "67bb4f9e-5afa-4bb2-997f-97564ce81f24",
   "metadata": {},
   "outputs": [
    {
     "data": {
      "text/plain": [
       "tensor([2, 5, 8])"
      ]
     },
     "execution_count": 63,
     "metadata": {},
     "output_type": "execute_result"
    }
   ],
   "source": [
    "x = torch.arange(10)\n",
    "indices = [2, 5, 8]\n",
    "\n",
    "x[indices]"
   ]
  },
  {
   "cell_type": "code",
   "execution_count": 64,
   "id": "34834a43-6e90-42ab-947c-ea85d57b357e",
   "metadata": {},
   "outputs": [
    {
     "data": {
      "text/plain": [
       "tensor([0.4194, 0.9144])"
      ]
     },
     "execution_count": 64,
     "metadata": {},
     "output_type": "execute_result"
    }
   ],
   "source": [
    "x = torch.rand((3, 5))\n",
    "\n",
    "rows = [1, 0]\n",
    "cols = [4, 0]\n",
    "\n",
    "x[rows, cols]"
   ]
  },
  {
   "cell_type": "code",
   "execution_count": 65,
   "id": "37dba200-77c7-4ba9-9265-dec3477a41c5",
   "metadata": {},
   "outputs": [],
   "source": [
    "x = torch.arange(10)"
   ]
  },
  {
   "cell_type": "code",
   "execution_count": 66,
   "id": "b5056c53-7d28-4b51-b565-9ae777dc42f9",
   "metadata": {},
   "outputs": [
    {
     "data": {
      "text/plain": [
       "tensor([0, 1, 9])"
      ]
     },
     "execution_count": 66,
     "metadata": {},
     "output_type": "execute_result"
    }
   ],
   "source": [
    "x[(x < 2) | (x > 8)]"
   ]
  },
  {
   "cell_type": "code",
   "execution_count": 67,
   "id": "1e65fe6f-2b79-403f-a119-06ea07bb3419",
   "metadata": {},
   "outputs": [
    {
     "data": {
      "text/plain": [
       "tensor([0, 2, 4, 6, 8])"
      ]
     },
     "execution_count": 67,
     "metadata": {},
     "output_type": "execute_result"
    }
   ],
   "source": [
    "x[x % 2 == 0]"
   ]
  },
  {
   "cell_type": "code",
   "execution_count": 68,
   "id": "a7ddf233-8557-429b-a12b-6de1e7e6e0d0",
   "metadata": {},
   "outputs": [
    {
     "data": {
      "text/plain": [
       "tensor([ 0,  2,  4,  6,  8, 10,  6,  7,  8,  9])"
      ]
     },
     "execution_count": 68,
     "metadata": {},
     "output_type": "execute_result"
    }
   ],
   "source": [
    "torch.where(x > 5, x, x*2)"
   ]
  },
  {
   "cell_type": "code",
   "execution_count": 69,
   "id": "2c17a8d9-adbb-407e-8c10-ccd48b51ee8f",
   "metadata": {},
   "outputs": [
    {
     "data": {
      "text/plain": [
       "tensor([0, 1, 2, 3, 4, 5, 6, 7, 8, 9])"
      ]
     },
     "execution_count": 69,
     "metadata": {},
     "output_type": "execute_result"
    }
   ],
   "source": [
    "x.unique()"
   ]
  },
  {
   "cell_type": "code",
   "execution_count": 70,
   "id": "ed2bfa07-73cf-48d0-83e2-2d00d50b3b78",
   "metadata": {},
   "outputs": [],
   "source": [
    "x = torch.rand(5, 6)"
   ]
  },
  {
   "cell_type": "code",
   "execution_count": 71,
   "id": "2afe99c3-8ac7-4596-b7ab-0a40d8072585",
   "metadata": {},
   "outputs": [
    {
     "data": {
      "text/plain": [
       "2"
      ]
     },
     "execution_count": 71,
     "metadata": {},
     "output_type": "execute_result"
    }
   ],
   "source": [
    "x.ndimension()"
   ]
  },
  {
   "cell_type": "code",
   "execution_count": 72,
   "id": "29ea3edf-aa70-4d0e-a407-959f163482b1",
   "metadata": {},
   "outputs": [
    {
     "data": {
      "text/plain": [
       "30"
      ]
     },
     "execution_count": 72,
     "metadata": {},
     "output_type": "execute_result"
    }
   ],
   "source": [
    "x.numel()"
   ]
  },
  {
   "cell_type": "markdown",
   "id": "7deab3e6-a07a-4b6b-b07d-0e9cd871657e",
   "metadata": {},
   "source": [
    "## View vs Reshape"
   ]
  },
  {
   "cell_type": "code",
   "execution_count": 73,
   "id": "310a421d-6e89-474e-a6c4-93ada33f1d17",
   "metadata": {},
   "outputs": [],
   "source": [
    "x = torch.arange(9)"
   ]
  },
  {
   "cell_type": "code",
   "execution_count": 74,
   "id": "8be17676-aab3-487b-a164-b404f38ada86",
   "metadata": {},
   "outputs": [
    {
     "data": {
      "text/plain": [
       "tensor([[0, 1, 2],\n",
       "        [3, 4, 5],\n",
       "        [6, 7, 8]])"
      ]
     },
     "execution_count": 74,
     "metadata": {},
     "output_type": "execute_result"
    }
   ],
   "source": [
    "x_3x3 = x.view(3, 3)\n",
    "x_3x3"
   ]
  },
  {
   "cell_type": "code",
   "execution_count": 75,
   "id": "a5004392-d76c-4f5a-b418-0c45e8096f94",
   "metadata": {},
   "outputs": [
    {
     "data": {
      "text/plain": [
       "tensor([[0, 1, 2],\n",
       "        [3, 4, 5],\n",
       "        [6, 7, 8]])"
      ]
     },
     "execution_count": 75,
     "metadata": {},
     "output_type": "execute_result"
    }
   ],
   "source": [
    "x_3x3 = x.reshape(3, 3)\n",
    "x_3x3"
   ]
  },
  {
   "cell_type": "code",
   "execution_count": 76,
   "id": "42d66fef-0ea2-4fd3-b826-befdebb87fec",
   "metadata": {},
   "outputs": [
    {
     "data": {
      "text/plain": [
       "tensor([[0, 3, 6],\n",
       "        [1, 4, 7],\n",
       "        [2, 5, 8]])"
      ]
     },
     "execution_count": 76,
     "metadata": {},
     "output_type": "execute_result"
    }
   ],
   "source": [
    "y = x_3x3.t()\n",
    "y"
   ]
  },
  {
   "cell_type": "code",
   "execution_count": 77,
   "id": "195a108a-89a9-4315-b56c-440fdeca07a6",
   "metadata": {},
   "outputs": [
    {
     "name": "stdout",
     "output_type": "stream",
     "text": [
      "as they are not contiguous\n",
      "view size is not compatible with input tensor's size and stride (at least one dimension spans across two contiguous subspaces). Use .reshape(...) instead.\n"
     ]
    }
   ],
   "source": [
    "try:\n",
    "    y.view(9)\n",
    "except Exception as e:\n",
    "    print(\"as they are not contiguous\")\n",
    "    print(e)"
   ]
  },
  {
   "cell_type": "code",
   "execution_count": 78,
   "id": "92201e60-12aa-4d9c-84c7-03947ac26961",
   "metadata": {},
   "outputs": [
    {
     "data": {
      "text/plain": [
       "tensor([0, 3, 6, 1, 4, 7, 2, 5, 8])"
      ]
     },
     "execution_count": 78,
     "metadata": {},
     "output_type": "execute_result"
    }
   ],
   "source": [
    "y.contiguous().view(9)"
   ]
  },
  {
   "cell_type": "code",
   "execution_count": 79,
   "id": "1b8cc55a-9891-4cec-8b60-d9159280be9c",
   "metadata": {},
   "outputs": [
    {
     "data": {
      "text/plain": [
       "tensor([0, 3, 6, 1, 4, 7, 2, 5, 8])"
      ]
     },
     "execution_count": 79,
     "metadata": {},
     "output_type": "execute_result"
    }
   ],
   "source": [
    "y.reshape(9)"
   ]
  },
  {
   "cell_type": "markdown",
   "id": "60d651b5-7bed-4ac0-b31d-4916bf663e40",
   "metadata": {},
   "source": [
    "## Concat"
   ]
  },
  {
   "cell_type": "code",
   "execution_count": 80,
   "id": "a1903551-d51b-4d60-9dd8-648e58d9c853",
   "metadata": {},
   "outputs": [],
   "source": [
    "x = torch.rand(2, 5)\n",
    "y = torch.rand(2, 5)"
   ]
  },
  {
   "cell_type": "code",
   "execution_count": 81,
   "id": "b4b6ff6a-7c99-466a-a1e8-cbd41765cce8",
   "metadata": {},
   "outputs": [
    {
     "data": {
      "text/plain": [
       "torch.Size([4, 5])"
      ]
     },
     "execution_count": 81,
     "metadata": {},
     "output_type": "execute_result"
    }
   ],
   "source": [
    "torch.cat((x, y), dim=0).shape"
   ]
  },
  {
   "cell_type": "code",
   "execution_count": 82,
   "id": "bcf36be7-c843-4d5e-a84f-cb6b424e9e0e",
   "metadata": {},
   "outputs": [
    {
     "data": {
      "text/plain": [
       "torch.Size([2, 10])"
      ]
     },
     "execution_count": 82,
     "metadata": {},
     "output_type": "execute_result"
    }
   ],
   "source": [
    "torch.cat((x, y), dim=1).shape"
   ]
  },
  {
   "cell_type": "code",
   "execution_count": 83,
   "id": "0a695421-255c-4288-aff5-91b8975d2989",
   "metadata": {},
   "outputs": [
    {
     "data": {
      "text/plain": [
       "torch.Size([4, 6, 5])"
      ]
     },
     "execution_count": 83,
     "metadata": {},
     "output_type": "execute_result"
    }
   ],
   "source": [
    "x = torch.rand(4, 5, 6)\n",
    "\n",
    "x.permute(0, 2, 1).shape"
   ]
  },
  {
   "cell_type": "code",
   "execution_count": 84,
   "id": "c2d1260c-48a5-489e-aaa2-4f5cc189b5d5",
   "metadata": {},
   "outputs": [
    {
     "data": {
      "text/plain": [
       "(torch.Size([1, 10]), torch.Size([10, 1]))"
      ]
     },
     "execution_count": 84,
     "metadata": {},
     "output_type": "execute_result"
    }
   ],
   "source": [
    "x = torch.arange(10)\n",
    "\n",
    "x.unsqueeze(0).shape, x.unsqueeze(1).shape"
   ]
  },
  {
   "cell_type": "code",
   "execution_count": 85,
   "id": "fee09351-8227-46f5-9beb-bf5383a48660",
   "metadata": {},
   "outputs": [
    {
     "data": {
      "text/plain": [
       "torch.Size([1, 10, 1])"
      ]
     },
     "execution_count": 85,
     "metadata": {},
     "output_type": "execute_result"
    }
   ],
   "source": [
    "x = x.unsqueeze(0).unsqueeze(2)\n",
    "\n",
    "x.shape"
   ]
  },
  {
   "cell_type": "code",
   "execution_count": 86,
   "id": "0faca29b-50be-4a56-a314-e6ebb59feaaf",
   "metadata": {},
   "outputs": [
    {
     "data": {
      "text/plain": [
       "torch.Size([10])"
      ]
     },
     "execution_count": 86,
     "metadata": {},
     "output_type": "execute_result"
    }
   ],
   "source": [
    "x.squeeze().shape"
   ]
  },
  {
   "cell_type": "code",
   "execution_count": 87,
   "id": "3aadf8be-a0ee-487a-a553-390894a84471",
   "metadata": {},
   "outputs": [
    {
     "data": {
      "text/plain": [
       "torch.Size([10, 1])"
      ]
     },
     "execution_count": 87,
     "metadata": {},
     "output_type": "execute_result"
    }
   ],
   "source": [
    "x.squeeze(0).shape"
   ]
  },
  {
   "cell_type": "code",
   "execution_count": null,
   "id": "d960e3e6-9dce-4ba3-9ad9-819944074350",
   "metadata": {},
   "outputs": [],
   "source": []
  }
 ],
 "metadata": {
  "kernelspec": {
   "display_name": "Python 3 (ipykernel)",
   "language": "python",
   "name": "python3"
  },
  "language_info": {
   "codemirror_mode": {
    "name": "ipython",
    "version": 3
   },
   "file_extension": ".py",
   "mimetype": "text/x-python",
   "name": "python",
   "nbconvert_exporter": "python",
   "pygments_lexer": "ipython3",
   "version": "3.10.15"
  }
 },
 "nbformat": 4,
 "nbformat_minor": 5
}
