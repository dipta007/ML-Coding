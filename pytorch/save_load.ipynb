{
 "cells": [
  {
   "cell_type": "code",
   "execution_count": 1,
   "id": "f3879c07-3c40-42b2-aec0-e4a9ae9f3f08",
   "metadata": {},
   "outputs": [],
   "source": [
    "import torch"
   ]
  },
  {
   "cell_type": "code",
   "execution_count": 3,
   "id": "e1e73360-6e84-4fc2-bbdb-7cf9c22fdb32",
   "metadata": {},
   "outputs": [],
   "source": [
    "model = torch.nn.Linear(4, 100)\n",
    "optimizer = torch.optim.Adam(model.parameters(), lr=0.001)"
   ]
  },
  {
   "cell_type": "code",
   "execution_count": 4,
   "id": "65183cde-7b0c-4d04-a9ce-2e53dfa48ac5",
   "metadata": {},
   "outputs": [],
   "source": [
    "def save_model(state, path):\n",
    "    torch.save(state, path)"
   ]
  },
  {
   "cell_type": "code",
   "execution_count": 10,
   "id": "bd99a8d0-b06c-461f-a138-46917750af18",
   "metadata": {},
   "outputs": [],
   "source": [
    "def load_model(path):\n",
    "    checkpoint = torch.load(path)\n",
    "    model.load_state_dict(checkpoint['state_dict'])\n",
    "    optimizer.load_state_dict(checkpoint['optim_state_dict'])"
   ]
  },
  {
   "cell_type": "code",
   "execution_count": 14,
   "id": "41271365-6f91-4645-9eec-5873b32ef441",
   "metadata": {},
   "outputs": [],
   "source": [
    "state = {\n",
    "    'state_dict': model.state_dict(),\n",
    "    'optim_state_dict': optimizer.state_dict()\n",
    "}"
   ]
  },
  {
   "cell_type": "code",
   "execution_count": 15,
   "id": "d179aea9-4a89-4d13-81db-eeb8644ce8e0",
   "metadata": {},
   "outputs": [],
   "source": [
    "save_model(state, './data/checkpoint.pth')"
   ]
  },
  {
   "cell_type": "code",
   "execution_count": 16,
   "id": "41c66cb3-4149-4066-8e10-667407157d92",
   "metadata": {},
   "outputs": [],
   "source": [
    "load_model('./data/checkpoint.pth')"
   ]
  },
  {
   "cell_type": "code",
   "execution_count": null,
   "id": "e183e8d0-43c3-4db3-a002-f2d4e5cc8479",
   "metadata": {},
   "outputs": [],
   "source": []
  }
 ],
 "metadata": {
  "kernelspec": {
   "display_name": "Python 3 (ipykernel)",
   "language": "python",
   "name": "python3"
  },
  "language_info": {
   "codemirror_mode": {
    "name": "ipython",
    "version": 3
   },
   "file_extension": ".py",
   "mimetype": "text/x-python",
   "name": "python",
   "nbconvert_exporter": "python",
   "pygments_lexer": "ipython3",
   "version": "3.10.15"
  }
 },
 "nbformat": 4,
 "nbformat_minor": 5
}
