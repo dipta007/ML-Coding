{
 "cells": [
  {
   "cell_type": "code",
   "execution_count": 51,
   "id": "f2b84738-b292-4c0a-a9de-70d46c56cc65",
   "metadata": {},
   "outputs": [],
   "source": [
    "import torch\n",
    "from torch.utils.data import Dataset, DataLoader\n",
    "from torch.nn.utils.rnn import pad_sequence\n",
    "from datasets import load_dataset\n",
    "from transformers import AutoTokenizer"
   ]
  },
  {
   "cell_type": "code",
   "execution_count": 52,
   "id": "8b6f781d-599e-4783-9588-2a9a9867a440",
   "metadata": {},
   "outputs": [],
   "source": [
    "BATCH_SIZE=2"
   ]
  },
  {
   "cell_type": "code",
   "execution_count": 76,
   "id": "3b9dc310-89a8-4781-80c3-2cbc1932a46e",
   "metadata": {},
   "outputs": [],
   "source": [
    "class AllNLI(Dataset):\n",
    "    def __init__(self, split):\n",
    "        # super(AllNLI, Dataset).__init__()\n",
    "        self.ds = load_dataset(\"sentence-transformers/all-nli\", \"pair-score\")\n",
    "        self.tokenizer = AutoTokenizer.from_pretrained('bert-base-uncased')\n",
    "        self.ds = self.ds[split]\n",
    "\n",
    "    def __getitem__(self, idx):\n",
    "        data = self.ds[idx]\n",
    "        return data['sentence1'], data['sentence2'], data['score']\n",
    "\n",
    "    def __len__(self):\n",
    "        return len(self.ds)\n",
    "\n",
    "    def collate_fn(self, batch):\n",
    "        sen1 = [b[0] for b in batch]\n",
    "        sen2 = [b[1] for b in batch]\n",
    "        score = [b[2] for b in batch]\n",
    "\n",
    "        tokens1 = self.tokenizer(sen1, return_tensors='pt', truncation=True, padding=True)\n",
    "        tokens2 = self.tokenizer(sen2, return_tensors='pt', truncation=True, padding=True)\n",
    "        score = torch.tensor(score).float()\n",
    "        return tokens1, tokens2, score"
   ]
  },
  {
   "cell_type": "code",
   "execution_count": 77,
   "id": "2d7e8627-c0b5-4dba-a075-c29b1d2387e4",
   "metadata": {},
   "outputs": [],
   "source": [
    "train_ds = AllNLI('train')\n",
    "dev_ds = AllNLI('dev')\n",
    "test_ds = AllNLI('test')"
   ]
  },
  {
   "cell_type": "code",
   "execution_count": 78,
   "id": "3fbff1e8-0942-4fe2-a78d-534896811148",
   "metadata": {},
   "outputs": [],
   "source": [
    "train_dl = DataLoader(train_ds, batch_size=BATCH_SIZE, num_workers=0, shuffle=True, collate_fn=train_ds.collate_fn)\n",
    "dev_dl = DataLoader(dev_ds, batch_size=BATCH_SIZE, num_workers=2, shuffle=False, collate_fn=dev_ds.collate_fn)\n",
    "test_dl = DataLoader(test_ds, batch_size=BATCH_SIZE, num_workers=2, shuffle=False, collate_fn=test_ds.collate_fn)"
   ]
  },
  {
   "cell_type": "code",
   "execution_count": 80,
   "id": "1564c605-1a55-4d5e-8d89-c442ee4c245c",
   "metadata": {},
   "outputs": [
    {
     "name": "stdout",
     "output_type": "stream",
     "text": [
      "torch.Size([2, 20])\n",
      "torch.Size([2, 16])\n",
      "torch.Size([2])\n"
     ]
    }
   ],
   "source": [
    "for batch in train_dl:\n",
    "    sen1, sen2, score = batch\n",
    "    print(sen1['input_ids'].shape)\n",
    "    print(sen2['input_ids'].shape)\n",
    "    print(score.shape)\n",
    "    break"
   ]
  },
  {
   "cell_type": "code",
   "execution_count": null,
   "id": "fcebfa52-ac04-4482-bf43-7d6b5d124394",
   "metadata": {},
   "outputs": [],
   "source": []
  },
  {
   "cell_type": "code",
   "execution_count": null,
   "id": "54b020f8-442d-496d-bf0b-bf7f86de9350",
   "metadata": {},
   "outputs": [],
   "source": []
  }
 ],
 "metadata": {
  "kernelspec": {
   "display_name": "Python 3 (ipykernel)",
   "language": "python",
   "name": "python3"
  },
  "language_info": {
   "codemirror_mode": {
    "name": "ipython",
    "version": 3
   },
   "file_extension": ".py",
   "mimetype": "text/x-python",
   "name": "python",
   "nbconvert_exporter": "python",
   "pygments_lexer": "ipython3",
   "version": "3.10.15"
  }
 },
 "nbformat": 4,
 "nbformat_minor": 5
}
